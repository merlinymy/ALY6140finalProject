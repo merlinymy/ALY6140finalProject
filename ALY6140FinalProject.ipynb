{
 "cells": [
  {
   "cell_type": "markdown",
   "metadata": {
    "id": "MqO1KezokB8o"
   },
   "source": [
    "#Libraries and packages"
   ]
  },
  {
   "cell_type": "code",
   "execution_count": null,
   "metadata": {
    "colab": {
     "base_uri": "https://localhost:8080/"
    },
    "id": "zw6qp6MjkIKR",
    "outputId": "d318eee1-bc60-4139-dd6d-cd7ab7caf51d"
   },
   "outputs": [
    {
     "name": "stderr",
     "output_type": "stream",
     "text": [
      "/usr/local/lib/python3.7/dist-packages/statsmodels/tools/_testing.py:19: FutureWarning: pandas.util.testing is deprecated. Use the functions in the public API at pandas.testing instead.\n",
      "  import pandas.util.testing as tm\n",
      "/usr/local/lib/python3.7/dist-packages/sklearn/externals/six.py:31: FutureWarning: The module is deprecated in version 0.21 and will be removed in version 0.23 since we've dropped support for Python 2.7. Please rely on the official version of six (https://pypi.org/project/six/).\n",
      "  \"(https://pypi.org/project/six/).\", FutureWarning)\n"
     ]
    }
   ],
   "source": [
    "from sklearn.linear_model import LinearRegression\n",
    "from sklearn.model_selection import GridSearchCV\n",
    "from sklearn.metrics import mean_squared_error\n",
    "from sklearn.model_selection import RandomizedSearchCV\n",
    "from sklearn.metrics import roc_auc_score\n",
    "from sklearn.metrics import roc_curve\n",
    "from sklearn.neighbors import KNeighborsClassifier\n",
    "from sklearn.linear_model import LogisticRegression\n",
    "from sklearn.metrics import confusion_matrix\n",
    "from sklearn.model_selection import cross_val_score\n",
    "from sklearn.metrics import classification_report\n",
    "from sklearn.ensemble import RandomForestClassifier\n",
    "from sklearn.ensemble import RandomForestRegressor\n",
    "from sklearn.preprocessing import StandardScaler\n",
    "from sklearn.preprocessing import PolynomialFeatures\n",
    "from sklearn.svm import SVR\n",
    "import statsmodels.api as sm\n",
    "\n",
    "from sklearn.model_selection import train_test_split \n",
    "from sklearn.tree import DecisionTreeClassifier \n",
    "from sklearn.metrics import accuracy_score,precision_score\n",
    "from sklearn import tree \n",
    "from sklearn.preprocessing import LabelEncoder\n",
    "\n",
    "from sklearn.externals.six import StringIO  \n",
    "from IPython.display import Image  \n",
    "from sklearn.tree import export_graphviz\n",
    "import pydotplus\n",
    "from sklearn.feature_selection import SelectFromModel\n",
    "\n",
    "import requests\n",
    "import io\n",
    "import scipy\n",
    "import numpy as np\n",
    "import pandas as pd\n",
    "import pandas_datareader as pdr\n",
    "from pandas_datareader import data, wb\n",
    "import fix_yahoo_finance as yf\n",
    "import matplotlib.pyplot as plt\n",
    "from matplotlib.pyplot import plot\n",
    "from matplotlib.pyplot import figure\n",
    "from matplotlib.pyplot import style\n",
    "import matplotlib.ticker as mtick\n",
    "import datetime\n",
    "from datetime import date\n",
    "from dateutil.parser import parse\n",
    "from sklearn.metrics import plot_confusion_matrix\n",
    "from sklearn.linear_model import RidgeClassifier\n",
    "from pprint import pprint\n",
    "from sklearn.metrics import roc_auc_score,accuracy_score, precision_score, recall_score,precision_recall_curve\n",
    "from sklearn.metrics import roc_curve\n",
    "from sklearn import metrics # for the check the error and accuracy of the model\n",
    "\n",
    "from numpy import arange\n",
    "import seaborn as sns\n",
    "\n",
    "# Feature Extraction with RFE\n",
    "from pandas import read_csv\n",
    "from sklearn.feature_selection import RFE\n",
    "from sklearn.linear_model import LogisticRegression\n",
    "from matplotlib import pyplot"
   ]
  },
  {
   "cell_type": "markdown",
   "metadata": {
    "id": "eYXYM7ZBAfEJ"
   },
   "source": [
    "#Data prep"
   ]
  },
  {
   "cell_type": "markdown",
   "metadata": {
    "id": "7Kyb40hrAjiX"
   },
   "source": [
    "##Data Set Information:\n",
    "###Attribute Information:\n",
    "###Input variables (based on physicochemical tests):\n",
    "###1 - fixed acidity\n",
    "###2 - volatile acidity\n",
    "###3 - citric acid\n",
    "###4 - residual sugar\n",
    "###5 - chlorides\n",
    "###6 - free sulfur dioxide\n",
    "###7 - total sulfur dioxide\n",
    "###8 - density\n",
    "###9 - pH\n",
    "###10 - sulphates\n",
    "###11 - alcohol\n",
    "###Output variable (based on sensory data):\n",
    "###12 - quality (score between 0 and 10)\n",
    "\n"
   ]
  },
  {
   "cell_type": "code",
   "execution_count": null,
   "metadata": {
    "id": "gxG0zt6PAgzh"
   },
   "outputs": [],
   "source": [
    "data_path = 'https://docs.google.com/spreadsheets/d/e/2PACX-1vQFDUgXaNIB4B7gzKB9rLNpkZMroBcsqrDJ9cQFV-Kh11lUhObSWSaa9p-7iFYovTFjI9J3HLvtnOGz/pub?gid=225682694&single=true&output=csv'"
   ]
  },
  {
   "cell_type": "code",
   "execution_count": null,
   "metadata": {
    "colab": {
     "base_uri": "https://localhost:8080/"
    },
    "id": "DK1vS-l7AgYv",
    "outputId": "2f704c36-03b7-43db-e081-73a0cc0a9dc0"
   },
   "outputs": [
    {
     "data": {
      "text/html": [
       "<div>\n",
       "<style scoped>\n",
       "    .dataframe tbody tr th:only-of-type {\n",
       "        vertical-align: middle;\n",
       "    }\n",
       "\n",
       "    .dataframe tbody tr th {\n",
       "        vertical-align: top;\n",
       "    }\n",
       "\n",
       "    .dataframe thead th {\n",
       "        text-align: right;\n",
       "    }\n",
       "</style>\n",
       "<table border=\"1\" class=\"dataframe\">\n",
       "  <thead>\n",
       "    <tr style=\"text-align: right;\">\n",
       "      <th></th>\n",
       "      <th>fixed acidity</th>\n",
       "      <th>volatile acidity</th>\n",
       "      <th>citric acid</th>\n",
       "      <th>residual sugar</th>\n",
       "      <th>chlorides</th>\n",
       "      <th>free sulfur dioxide</th>\n",
       "      <th>total sulfur dioxide</th>\n",
       "      <th>density</th>\n",
       "      <th>pH</th>\n",
       "      <th>sulphates</th>\n",
       "      <th>alcohol</th>\n",
       "      <th>quality</th>\n",
       "    </tr>\n",
       "  </thead>\n",
       "  <tbody>\n",
       "    <tr>\n",
       "      <th>0</th>\n",
       "      <td>9.3</td>\n",
       "      <td>0.390</td>\n",
       "      <td>0.40</td>\n",
       "      <td>2.6</td>\n",
       "      <td>0.073</td>\n",
       "      <td>10.0</td>\n",
       "      <td>26.0</td>\n",
       "      <td>0.99840</td>\n",
       "      <td>3.34</td>\n",
       "      <td>0.75</td>\n",
       "      <td>10.20</td>\n",
       "      <td>6</td>\n",
       "    </tr>\n",
       "    <tr>\n",
       "      <th>1</th>\n",
       "      <td>6.8</td>\n",
       "      <td>0.690</td>\n",
       "      <td>0.00</td>\n",
       "      <td>5.6</td>\n",
       "      <td>0.124</td>\n",
       "      <td>21.0</td>\n",
       "      <td>58.0</td>\n",
       "      <td>0.99970</td>\n",
       "      <td>3.46</td>\n",
       "      <td>0.72</td>\n",
       "      <td>10.20</td>\n",
       "      <td>5</td>\n",
       "    </tr>\n",
       "    <tr>\n",
       "      <th>2</th>\n",
       "      <td>6.7</td>\n",
       "      <td>0.855</td>\n",
       "      <td>0.02</td>\n",
       "      <td>1.9</td>\n",
       "      <td>0.064</td>\n",
       "      <td>29.0</td>\n",
       "      <td>38.0</td>\n",
       "      <td>0.99472</td>\n",
       "      <td>3.30</td>\n",
       "      <td>0.56</td>\n",
       "      <td>10.75</td>\n",
       "      <td>6</td>\n",
       "    </tr>\n",
       "  </tbody>\n",
       "</table>\n",
       "</div>"
      ],
      "text/plain": [
       "   fixed acidity  volatile acidity  citric acid  ...  sulphates  alcohol  quality\n",
       "0            9.3             0.390         0.40  ...       0.75    10.20        6\n",
       "1            6.8             0.690         0.00  ...       0.72    10.20        5\n",
       "2            6.7             0.855         0.02  ...       0.56    10.75        6\n",
       "\n",
       "[3 rows x 12 columns]"
      ]
     },
     "execution_count": 3,
     "metadata": {
      "tags": []
     },
     "output_type": "execute_result"
    }
   ],
   "source": [
    "df = pd.read_csv(data_path)\n",
    "df.head(3)"
   ]
  },
  {
   "cell_type": "code",
   "execution_count": null,
   "metadata": {
    "colab": {
     "base_uri": "https://localhost:8080/"
    },
    "id": "41MFX54eDOYB",
    "outputId": "7c313943-0e9d-4752-8361-107d7d27fa8e"
   },
   "outputs": [
    {
     "data": {
      "text/html": [
       "<div>\n",
       "<style scoped>\n",
       "    .dataframe tbody tr th:only-of-type {\n",
       "        vertical-align: middle;\n",
       "    }\n",
       "\n",
       "    .dataframe tbody tr th {\n",
       "        vertical-align: top;\n",
       "    }\n",
       "\n",
       "    .dataframe thead th {\n",
       "        text-align: right;\n",
       "    }\n",
       "</style>\n",
       "<table border=\"1\" class=\"dataframe\">\n",
       "  <thead>\n",
       "    <tr style=\"text-align: right;\">\n",
       "      <th></th>\n",
       "      <th>fixed_acidity</th>\n",
       "      <th>volatile_acidity</th>\n",
       "      <th>citric_acid</th>\n",
       "      <th>residual_sugar</th>\n",
       "      <th>chlorides</th>\n",
       "      <th>free_sulfur_dioxide</th>\n",
       "      <th>total_sulfur_dioxide</th>\n",
       "      <th>density</th>\n",
       "      <th>pH</th>\n",
       "      <th>sulphates</th>\n",
       "      <th>alcohol</th>\n",
       "      <th>quality</th>\n",
       "    </tr>\n",
       "  </thead>\n",
       "  <tbody>\n",
       "    <tr>\n",
       "      <th>0</th>\n",
       "      <td>9.3</td>\n",
       "      <td>0.390</td>\n",
       "      <td>0.40</td>\n",
       "      <td>2.6</td>\n",
       "      <td>0.073</td>\n",
       "      <td>10.0</td>\n",
       "      <td>26.0</td>\n",
       "      <td>0.99840</td>\n",
       "      <td>3.34</td>\n",
       "      <td>0.75</td>\n",
       "      <td>10.20</td>\n",
       "      <td>6</td>\n",
       "    </tr>\n",
       "    <tr>\n",
       "      <th>1</th>\n",
       "      <td>6.8</td>\n",
       "      <td>0.690</td>\n",
       "      <td>0.00</td>\n",
       "      <td>5.6</td>\n",
       "      <td>0.124</td>\n",
       "      <td>21.0</td>\n",
       "      <td>58.0</td>\n",
       "      <td>0.99970</td>\n",
       "      <td>3.46</td>\n",
       "      <td>0.72</td>\n",
       "      <td>10.20</td>\n",
       "      <td>5</td>\n",
       "    </tr>\n",
       "    <tr>\n",
       "      <th>2</th>\n",
       "      <td>6.7</td>\n",
       "      <td>0.855</td>\n",
       "      <td>0.02</td>\n",
       "      <td>1.9</td>\n",
       "      <td>0.064</td>\n",
       "      <td>29.0</td>\n",
       "      <td>38.0</td>\n",
       "      <td>0.99472</td>\n",
       "      <td>3.30</td>\n",
       "      <td>0.56</td>\n",
       "      <td>10.75</td>\n",
       "      <td>6</td>\n",
       "    </tr>\n",
       "  </tbody>\n",
       "</table>\n",
       "</div>"
      ],
      "text/plain": [
       "   fixed_acidity  volatile_acidity  citric_acid  ...  sulphates  alcohol  quality\n",
       "0            9.3             0.390         0.40  ...       0.75    10.20        6\n",
       "1            6.8             0.690         0.00  ...       0.72    10.20        5\n",
       "2            6.7             0.855         0.02  ...       0.56    10.75        6\n",
       "\n",
       "[3 rows x 12 columns]"
      ]
     },
     "execution_count": 4,
     "metadata": {
      "tags": []
     },
     "output_type": "execute_result"
    }
   ],
   "source": [
    "#replace space with '_' in headers\n",
    "df.columns = df.columns.str.replace(r'\\s+','_')\n",
    "df.head(3)"
   ]
  },
  {
   "cell_type": "code",
   "execution_count": null,
   "metadata": {
    "colab": {
     "base_uri": "https://localhost:8080/"
    },
    "id": "CH2N5qqrCpJK",
    "outputId": "c366b4f4-0526-4c76-bb16-d9656e0bf8ab"
   },
   "outputs": [
    {
     "data": {
      "text/plain": [
       "fixed_acidity           float64\n",
       "volatile_acidity        float64\n",
       "citric_acid             float64\n",
       "residual_sugar          float64\n",
       "chlorides               float64\n",
       "free_sulfur_dioxide     float64\n",
       "total_sulfur_dioxide    float64\n",
       "density                 float64\n",
       "pH                      float64\n",
       "sulphates               float64\n",
       "alcohol                 float64\n",
       "quality                   int64\n",
       "dtype: object"
      ]
     },
     "execution_count": 5,
     "metadata": {
      "tags": []
     },
     "output_type": "execute_result"
    }
   ],
   "source": [
    "df.dtypes"
   ]
  },
  {
   "cell_type": "code",
   "execution_count": null,
   "metadata": {
    "colab": {
     "base_uri": "https://localhost:8080/"
    },
    "id": "fugAsLswBvVX",
    "outputId": "92b353ee-b4d7-4ce6-cd96-48a508b9b54a"
   },
   "outputs": [
    {
     "data": {
      "text/plain": [
       "fixed_acidity           10\n",
       "volatile_acidity         0\n",
       "citric_acid              9\n",
       "residual_sugar           0\n",
       "chlorides                0\n",
       "free_sulfur_dioxide      0\n",
       "total_sulfur_dioxide     0\n",
       "density                  0\n",
       "pH                       0\n",
       "sulphates                0\n",
       "alcohol                  0\n",
       "quality                  0\n",
       "dtype: int64"
      ]
     },
     "execution_count": 6,
     "metadata": {
      "tags": []
     },
     "output_type": "execute_result"
    }
   ],
   "source": [
    "df.isnull().sum()"
   ]
  },
  {
   "cell_type": "code",
   "execution_count": null,
   "metadata": {
    "id": "nf8_1vIKC6WF"
   },
   "outputs": [],
   "source": [
    "#fill na values with column mean\n",
    "df['fixed_acidity'].fillna((df['fixed_acidity'].mean()),inplace = True)\n",
    "df['citric_acid'].fillna((df['citric_acid'].mean()),inplace = True)"
   ]
  },
  {
   "cell_type": "code",
   "execution_count": null,
   "metadata": {
    "id": "Gys-jcQTFEfE"
   },
   "outputs": [],
   "source": [
    "#df.isnull().sum()"
   ]
  },
  {
   "cell_type": "code",
   "execution_count": null,
   "metadata": {
    "colab": {
     "base_uri": "https://localhost:8080/"
    },
    "id": "6YgWqrGyAz0Z",
    "outputId": "dbba92e8-240f-448e-bc18-632153369197"
   },
   "outputs": [
    {
     "data": {
      "text/plain": [
       "3     0.63%\n",
       "4     3.31%\n",
       "5    42.59%\n",
       "6     39.9%\n",
       "7    12.45%\n",
       "8     1.13%\n",
       "Name: quality, dtype: object"
      ]
     },
     "execution_count": 9,
     "metadata": {
      "tags": []
     },
     "output_type": "execute_result"
    }
   ],
   "source": [
    "df.quality.value_counts(sort=False,normalize=True).mul(100).round(2).astype(str) + '%'"
   ]
  },
  {
   "cell_type": "markdown",
   "metadata": {
    "id": "ZBX_0EA1NIsb"
   },
   "source": [
    "#EDA"
   ]
  },
  {
   "cell_type": "code",
   "execution_count": null,
   "metadata": {
    "colab": {
     "base_uri": "https://localhost:8080/"
    },
    "id": "0c9KTm-3lTNv",
    "outputId": "3579d2a9-a281-4e9c-9bcb-1c8ce1a6480d"
   },
   "outputs": [
    {
     "data": {
      "text/plain": [
       "<matplotlib.axes._subplots.AxesSubplot at 0x7f1339809cd0>"
      ]
     },
     "execution_count": 10,
     "metadata": {
      "tags": []
     },
     "output_type": "execute_result"
    },
    {
     "data": {
      "image/png": "[encoded data removed]",
      "text/plain": [
       "<Figure size 432x288 with 1 Axes>"
      ]
     },
     "metadata": {
      "needs_background": "light",
      "tags": []
     },
     "output_type": "display_data"
    }
   ],
   "source": [
    "sns.boxplot(x='quality',y='volatile_acidity', data=df)"
   ]
  },
  {
   "cell_type": "code",
   "execution_count": null,
   "metadata": {
    "colab": {
     "base_uri": "https://localhost:8080/"
    },
    "id": "EwCZwF2xlV9u",
    "outputId": "967503af-b787-4961-db11-95f8e01a2468"
   },
   "outputs": [
    {
     "data": {
      "text/plain": [
       "<matplotlib.axes._subplots.AxesSubplot at 0x7f13567b7cd0>"
      ]
     },
     "execution_count": 11,
     "metadata": {
      "tags": []
     },
     "output_type": "execute_result"
    },
    {
     "data": {
      "image/png": "[encoded data removed]",
      "text/plain": [
       "<Figure size 432x288 with 1 Axes>"
      ]
     },
     "metadata": {
      "needs_background": "light",
      "tags": []
     },
     "output_type": "display_data"
    }
   ],
   "source": [
    "sns.boxplot(x='quality',y='fixed_acidity', data=df)"
   ]
  },
  {
   "cell_type": "code",
   "execution_count": null,
   "metadata": {
    "colab": {
     "base_uri": "https://localhost:8080/"
    },
    "id": "ftzRc4gIlatQ",
    "outputId": "bbaa140e-b5ae-4266-849c-2861c925febd"
   },
   "outputs": [
    {
     "data": {
      "text/plain": [
       "<matplotlib.axes._subplots.AxesSubplot at 0x7f13562617d0>"
      ]
     },
     "execution_count": 12,
     "metadata": {
      "tags": []
     },
     "output_type": "execute_result"
    },
    {
     "data": {
      "image/png": "[encoded data removed]",
      "text/plain": [
       "<Figure size 432x288 with 1 Axes>"
      ]
     },
     "metadata": {
      "needs_background": "light",
      "tags": []
     },
     "output_type": "display_data"
    }
   ],
   "source": [
    "sns.boxplot(x='quality',y='sulphates', data=df)"
   ]
  },
  {
   "cell_type": "code",
   "execution_count": null,
   "metadata": {
    "colab": {
     "base_uri": "https://localhost:8080/"
    },
    "id": "nHQnZv52B7gA",
    "outputId": "9a4054c3-16d6-4124-cdd8-4ee8123fdb0d"
   },
   "outputs": [
    {
     "data": {
      "image/png": "[encoded data removed]",
      "text/plain": [
       "<Figure size 576x864 with 2 Axes>"
      ]
     },
     "metadata": {
      "needs_background": "light",
      "tags": []
     },
     "output_type": "display_data"
    }
   ],
   "source": [
    "df.corr()[['quality']].sort_values(by='quality', ascending=False)\n",
    "plt.figure(figsize=(8, 12))\n",
    "heatmap = sns.heatmap(df.corr()[['quality']].sort_values(by='quality', ascending=False), vmin=-1, vmax=1, annot=True, cmap='BrBG')\n",
    "heatmap.set_title('Features Correlating with Quality', fontdict={'fontsize':18}, pad=16);"
   ]
  },
  {
   "cell_type": "code",
   "execution_count": null,
   "metadata": {
    "colab": {
     "base_uri": "https://localhost:8080/"
    },
    "id": "zAPbw5xgAa_0",
    "outputId": "bc7c645b-f7fb-46fe-ee7d-93f49239a099"
   },
   "outputs": [
    {
     "data": {
      "text/html": [
       "<div>\n",
       "<style scoped>\n",
       "    .dataframe tbody tr th:only-of-type {\n",
       "        vertical-align: middle;\n",
       "    }\n",
       "\n",
       "    .dataframe tbody tr th {\n",
       "        vertical-align: top;\n",
       "    }\n",
       "\n",
       "    .dataframe thead th {\n",
       "        text-align: right;\n",
       "    }\n",
       "</style>\n",
       "<table border=\"1\" class=\"dataframe\">\n",
       "  <thead>\n",
       "    <tr style=\"text-align: right;\">\n",
       "      <th></th>\n",
       "      <th>fixed_acidity</th>\n",
       "      <th>volatile_acidity</th>\n",
       "      <th>citric_acid</th>\n",
       "      <th>residual_sugar</th>\n",
       "      <th>chlorides</th>\n",
       "      <th>free_sulfur_dioxide</th>\n",
       "      <th>total_sulfur_dioxide</th>\n",
       "      <th>density</th>\n",
       "      <th>pH</th>\n",
       "      <th>sulphates</th>\n",
       "      <th>alcohol</th>\n",
       "      <th>quality</th>\n",
       "    </tr>\n",
       "  </thead>\n",
       "  <tbody>\n",
       "    <tr>\n",
       "      <th>fixed_acidity</th>\n",
       "      <td>1.000000</td>\n",
       "      <td>-0.253726</td>\n",
       "      <td>0.665483</td>\n",
       "      <td>0.114410</td>\n",
       "      <td>0.089754</td>\n",
       "      <td>-0.153701</td>\n",
       "      <td>-0.113229</td>\n",
       "      <td>0.665628</td>\n",
       "      <td>-0.680350</td>\n",
       "      <td>0.181821</td>\n",
       "      <td>-0.059600</td>\n",
       "      <td>0.123841</td>\n",
       "    </tr>\n",
       "    <tr>\n",
       "      <th>volatile_acidity</th>\n",
       "      <td>-0.253726</td>\n",
       "      <td>1.000000</td>\n",
       "      <td>-0.549679</td>\n",
       "      <td>0.001918</td>\n",
       "      <td>0.061298</td>\n",
       "      <td>-0.010504</td>\n",
       "      <td>0.076470</td>\n",
       "      <td>0.022026</td>\n",
       "      <td>0.234937</td>\n",
       "      <td>-0.260987</td>\n",
       "      <td>-0.202288</td>\n",
       "      <td>-0.390558</td>\n",
       "    </tr>\n",
       "    <tr>\n",
       "      <th>citric_acid</th>\n",
       "      <td>0.665483</td>\n",
       "      <td>-0.549679</td>\n",
       "      <td>1.000000</td>\n",
       "      <td>0.144051</td>\n",
       "      <td>0.203894</td>\n",
       "      <td>-0.059731</td>\n",
       "      <td>0.036095</td>\n",
       "      <td>0.363896</td>\n",
       "      <td>-0.539752</td>\n",
       "      <td>0.312378</td>\n",
       "      <td>0.108263</td>\n",
       "      <td>0.226351</td>\n",
       "    </tr>\n",
       "    <tr>\n",
       "      <th>residual_sugar</th>\n",
       "      <td>0.114410</td>\n",
       "      <td>0.001918</td>\n",
       "      <td>0.144051</td>\n",
       "      <td>1.000000</td>\n",
       "      <td>0.055610</td>\n",
       "      <td>0.187049</td>\n",
       "      <td>0.203028</td>\n",
       "      <td>0.355283</td>\n",
       "      <td>-0.085652</td>\n",
       "      <td>0.005527</td>\n",
       "      <td>0.042075</td>\n",
       "      <td>0.013732</td>\n",
       "    </tr>\n",
       "    <tr>\n",
       "      <th>chlorides</th>\n",
       "      <td>0.089754</td>\n",
       "      <td>0.061298</td>\n",
       "      <td>0.203894</td>\n",
       "      <td>0.055610</td>\n",
       "      <td>1.000000</td>\n",
       "      <td>0.005562</td>\n",
       "      <td>0.047400</td>\n",
       "      <td>0.200632</td>\n",
       "      <td>-0.265026</td>\n",
       "      <td>0.371260</td>\n",
       "      <td>-0.221141</td>\n",
       "      <td>-0.128907</td>\n",
       "    </tr>\n",
       "    <tr>\n",
       "      <th>free_sulfur_dioxide</th>\n",
       "      <td>-0.153701</td>\n",
       "      <td>-0.010504</td>\n",
       "      <td>-0.059731</td>\n",
       "      <td>0.187049</td>\n",
       "      <td>0.005562</td>\n",
       "      <td>1.000000</td>\n",
       "      <td>0.667666</td>\n",
       "      <td>-0.021946</td>\n",
       "      <td>0.070377</td>\n",
       "      <td>0.051658</td>\n",
       "      <td>-0.069408</td>\n",
       "      <td>-0.050656</td>\n",
       "    </tr>\n",
       "    <tr>\n",
       "      <th>total_sulfur_dioxide</th>\n",
       "      <td>-0.113229</td>\n",
       "      <td>0.076470</td>\n",
       "      <td>0.036095</td>\n",
       "      <td>0.203028</td>\n",
       "      <td>0.047400</td>\n",
       "      <td>0.667666</td>\n",
       "      <td>1.000000</td>\n",
       "      <td>0.071269</td>\n",
       "      <td>-0.066495</td>\n",
       "      <td>0.042947</td>\n",
       "      <td>-0.205654</td>\n",
       "      <td>-0.185100</td>\n",
       "    </tr>\n",
       "    <tr>\n",
       "      <th>density</th>\n",
       "      <td>0.665628</td>\n",
       "      <td>0.022026</td>\n",
       "      <td>0.363896</td>\n",
       "      <td>0.355283</td>\n",
       "      <td>0.200632</td>\n",
       "      <td>-0.021946</td>\n",
       "      <td>0.071269</td>\n",
       "      <td>1.000000</td>\n",
       "      <td>-0.341699</td>\n",
       "      <td>0.148506</td>\n",
       "      <td>-0.496180</td>\n",
       "      <td>-0.174919</td>\n",
       "    </tr>\n",
       "    <tr>\n",
       "      <th>pH</th>\n",
       "      <td>-0.680350</td>\n",
       "      <td>0.234937</td>\n",
       "      <td>-0.539752</td>\n",
       "      <td>-0.085652</td>\n",
       "      <td>-0.265026</td>\n",
       "      <td>0.070377</td>\n",
       "      <td>-0.066495</td>\n",
       "      <td>-0.341699</td>\n",
       "      <td>1.000000</td>\n",
       "      <td>-0.196648</td>\n",
       "      <td>0.205633</td>\n",
       "      <td>-0.057731</td>\n",
       "    </tr>\n",
       "    <tr>\n",
       "      <th>sulphates</th>\n",
       "      <td>0.181821</td>\n",
       "      <td>-0.260987</td>\n",
       "      <td>0.312378</td>\n",
       "      <td>0.005527</td>\n",
       "      <td>0.371260</td>\n",
       "      <td>0.051658</td>\n",
       "      <td>0.042947</td>\n",
       "      <td>0.148506</td>\n",
       "      <td>-0.196648</td>\n",
       "      <td>1.000000</td>\n",
       "      <td>0.093595</td>\n",
       "      <td>0.251397</td>\n",
       "    </tr>\n",
       "    <tr>\n",
       "      <th>alcohol</th>\n",
       "      <td>-0.059600</td>\n",
       "      <td>-0.202288</td>\n",
       "      <td>0.108263</td>\n",
       "      <td>0.042075</td>\n",
       "      <td>-0.221141</td>\n",
       "      <td>-0.069408</td>\n",
       "      <td>-0.205654</td>\n",
       "      <td>-0.496180</td>\n",
       "      <td>0.205633</td>\n",
       "      <td>0.093595</td>\n",
       "      <td>1.000000</td>\n",
       "      <td>0.476166</td>\n",
       "    </tr>\n",
       "    <tr>\n",
       "      <th>quality</th>\n",
       "      <td>0.123841</td>\n",
       "      <td>-0.390558</td>\n",
       "      <td>0.226351</td>\n",
       "      <td>0.013732</td>\n",
       "      <td>-0.128907</td>\n",
       "      <td>-0.050656</td>\n",
       "      <td>-0.185100</td>\n",
       "      <td>-0.174919</td>\n",
       "      <td>-0.057731</td>\n",
       "      <td>0.251397</td>\n",
       "      <td>0.476166</td>\n",
       "      <td>1.000000</td>\n",
       "    </tr>\n",
       "  </tbody>\n",
       "</table>\n",
       "</div>"
      ],
      "text/plain": [
       "                      fixed_acidity  volatile_acidity  ...   alcohol   quality\n",
       "fixed_acidity              1.000000         -0.253726  ... -0.059600  0.123841\n",
       "volatile_acidity          -0.253726          1.000000  ... -0.202288 -0.390558\n",
       "citric_acid                0.665483         -0.549679  ...  0.108263  0.226351\n",
       "residual_sugar             0.114410          0.001918  ...  0.042075  0.013732\n",
       "chlorides                  0.089754          0.061298  ... -0.221141 -0.128907\n",
       "free_sulfur_dioxide       -0.153701         -0.010504  ... -0.069408 -0.050656\n",
       "total_sulfur_dioxide      -0.113229          0.076470  ... -0.205654 -0.185100\n",
       "density                    0.665628          0.022026  ... -0.496180 -0.174919\n",
       "pH                        -0.680350          0.234937  ...  0.205633 -0.057731\n",
       "sulphates                  0.181821         -0.260987  ...  0.093595  0.251397\n",
       "alcohol                   -0.059600         -0.202288  ...  1.000000  0.476166\n",
       "quality                    0.123841         -0.390558  ...  0.476166  1.000000\n",
       "\n",
       "[12 rows x 12 columns]"
      ]
     },
     "execution_count": 14,
     "metadata": {
      "tags": []
     },
     "output_type": "execute_result"
    }
   ],
   "source": [
    "df.corr()"
   ]
  },
  {
   "cell_type": "markdown",
   "metadata": {
    "id": "LBRM1E4wNOOs"
   },
   "source": [
    "#Models"
   ]
  },
  {
   "cell_type": "markdown",
   "metadata": {
    "id": "X0yTSjG7jv79"
   },
   "source": [
    "#Regression models"
   ]
  },
  {
   "cell_type": "markdown",
   "metadata": {
    "id": "w0PAn4BXPdwJ"
   },
   "source": [
    "\n",
    "##Random Forest Regression (all features)\n"
   ]
  },
  {
   "cell_type": "code",
   "execution_count": null,
   "metadata": {
    "id": "LlOz3CxYPRc3"
   },
   "outputs": [],
   "source": [
    "#Features: all columns except last one\n",
    "X = df.iloc[:,df.columns != 'quality']\n",
    "#target is default.payment.next.month\n",
    "y = df['quality']"
   ]
  },
  {
   "cell_type": "code",
   "execution_count": null,
   "metadata": {
    "id": "iPMYwvrWO-0K"
   },
   "outputs": [],
   "source": [
    "#split into training and testing sets\n",
    "X_train, X_test, y_train, y_test = train_test_split(X, y, test_size=0.3, random_state=10)"
   ]
  },
  {
   "cell_type": "code",
   "execution_count": null,
   "metadata": {
    "id": "lAz4YQtjRHOv"
   },
   "outputs": [],
   "source": [
    "RFR = RandomForestRegressor(n_estimators = 100, random_state = 10)"
   ]
  },
  {
   "cell_type": "code",
   "execution_count": null,
   "metadata": {
    "colab": {
     "base_uri": "https://localhost:8080/"
    },
    "id": "mqvEYeCuRu2N",
    "outputId": "54fc16b9-a4af-4325-8921-b344f90bd306"
   },
   "outputs": [
    {
     "data": {
      "text/plain": [
       "RandomForestRegressor(bootstrap=True, ccp_alpha=0.0, criterion='mse',\n",
       "                      max_depth=None, max_features='auto', max_leaf_nodes=None,\n",
       "                      max_samples=None, min_impurity_decrease=0.0,\n",
       "                      min_impurity_split=None, min_samples_leaf=1,\n",
       "                      min_samples_split=2, min_weight_fraction_leaf=0.0,\n",
       "                      n_estimators=100, n_jobs=None, oob_score=False,\n",
       "                      random_state=10, verbose=0, warm_start=False)"
      ]
     },
     "execution_count": 18,
     "metadata": {
      "tags": []
     },
     "output_type": "execute_result"
    }
   ],
   "source": [
    "RFR.fit(X_train, y_train)"
   ]
  },
  {
   "cell_type": "code",
   "execution_count": null,
   "metadata": {
    "id": "tD2XAPwxR9-5"
   },
   "outputs": [],
   "source": [
    "#model prediction\n",
    "RFR_pred = RFR.predict(X_test)"
   ]
  },
  {
   "cell_type": "code",
   "execution_count": null,
   "metadata": {
    "colab": {
     "base_uri": "https://localhost:8080/",
     "height": 419
    },
    "id": "yxxVkQmOSmVJ",
    "outputId": "7b7366ec-5ee1-4dcd-a5dd-1d25c3f03ec8"
   },
   "outputs": [
    {
     "data": {
      "text/html": [
       "<div>\n",
       "<style scoped>\n",
       "    .dataframe tbody tr th:only-of-type {\n",
       "        vertical-align: middle;\n",
       "    }\n",
       "\n",
       "    .dataframe tbody tr th {\n",
       "        vertical-align: top;\n",
       "    }\n",
       "\n",
       "    .dataframe thead th {\n",
       "        text-align: right;\n",
       "    }\n",
       "</style>\n",
       "<table border=\"1\" class=\"dataframe\">\n",
       "  <thead>\n",
       "    <tr style=\"text-align: right;\">\n",
       "      <th></th>\n",
       "      <th>Real Values</th>\n",
       "      <th>Predicted Values</th>\n",
       "    </tr>\n",
       "  </thead>\n",
       "  <tbody>\n",
       "    <tr>\n",
       "      <th>1518</th>\n",
       "      <td>5</td>\n",
       "      <td>5.0</td>\n",
       "    </tr>\n",
       "    <tr>\n",
       "      <th>1246</th>\n",
       "      <td>5</td>\n",
       "      <td>6.0</td>\n",
       "    </tr>\n",
       "    <tr>\n",
       "      <th>544</th>\n",
       "      <td>6</td>\n",
       "      <td>6.0</td>\n",
       "    </tr>\n",
       "    <tr>\n",
       "      <th>1343</th>\n",
       "      <td>6</td>\n",
       "      <td>6.0</td>\n",
       "    </tr>\n",
       "    <tr>\n",
       "      <th>428</th>\n",
       "      <td>5</td>\n",
       "      <td>6.0</td>\n",
       "    </tr>\n",
       "    <tr>\n",
       "      <th>...</th>\n",
       "      <td>...</td>\n",
       "      <td>...</td>\n",
       "    </tr>\n",
       "    <tr>\n",
       "      <th>174</th>\n",
       "      <td>4</td>\n",
       "      <td>6.0</td>\n",
       "    </tr>\n",
       "    <tr>\n",
       "      <th>387</th>\n",
       "      <td>6</td>\n",
       "      <td>6.0</td>\n",
       "    </tr>\n",
       "    <tr>\n",
       "      <th>1560</th>\n",
       "      <td>6</td>\n",
       "      <td>6.0</td>\n",
       "    </tr>\n",
       "    <tr>\n",
       "      <th>846</th>\n",
       "      <td>5</td>\n",
       "      <td>5.0</td>\n",
       "    </tr>\n",
       "    <tr>\n",
       "      <th>1567</th>\n",
       "      <td>5</td>\n",
       "      <td>5.0</td>\n",
       "    </tr>\n",
       "  </tbody>\n",
       "</table>\n",
       "<p>480 rows × 2 columns</p>\n",
       "</div>"
      ],
      "text/plain": [
       "      Real Values  Predicted Values\n",
       "1518            5               5.0\n",
       "1246            5               6.0\n",
       "544             6               6.0\n",
       "1343            6               6.0\n",
       "428             5               6.0\n",
       "...           ...               ...\n",
       "174             4               6.0\n",
       "387             6               6.0\n",
       "1560            6               6.0\n",
       "846             5               5.0\n",
       "1567            5               5.0\n",
       "\n",
       "[480 rows x 2 columns]"
      ]
     },
     "execution_count": 20,
     "metadata": {
      "tags": []
     },
     "output_type": "execute_result"
    }
   ],
   "source": [
    "#result\n",
    "result = pd.DataFrame({'Real Values':y_test, 'Predicted Values':RFR_pred.round(0)})\n",
    "result"
   ]
  },
  {
   "cell_type": "markdown",
   "metadata": {
    "id": "gkU77vZzTBZF"
   },
   "source": [
    "###Model evaluation"
   ]
  },
  {
   "cell_type": "code",
   "execution_count": null,
   "metadata": {
    "colab": {
     "base_uri": "https://localhost:8080/"
    },
    "id": "bBHEdnmATG5O",
    "outputId": "0b040cf3-d74a-40d9-c71a-d2afc5c879d6"
   },
   "outputs": [
    {
     "name": "stdout",
     "output_type": "stream",
     "text": [
      "The MSE of this model is 0.4292\n"
     ]
    }
   ],
   "source": [
    "#MSE\n",
    "RFR_mse = mean_squared_error(y_test,RFR_pred.round(0))\n",
    "print(\"The MSE of this model is {:.4f}\".format(RFR_mse))"
   ]
  },
  {
   "cell_type": "code",
   "execution_count": null,
   "metadata": {
    "colab": {
     "base_uri": "https://localhost:8080/"
    },
    "id": "KTC8kcyxuuJB",
    "outputId": "1d1d97a6-e69c-4165-85c5-d11be6a5588e"
   },
   "outputs": [
    {
     "name": "stdout",
     "output_type": "stream",
     "text": [
      "The score of Random Forest Regression model is 0.4340\n"
     ]
    }
   ],
   "source": [
    "#model score\n",
    "print('The score of Random Forest Regression model is {:.4f}'.format(RFR.score(X_test,y_test)))"
   ]
  },
  {
   "cell_type": "markdown",
   "metadata": {
    "id": "1x1lrpowO6Nz"
   },
   "source": [
    "##Random Forest Feature Selection"
   ]
  },
  {
   "cell_type": "code",
   "execution_count": null,
   "metadata": {
    "colab": {
     "base_uri": "https://localhost:8080/"
    },
    "id": "ukmNOGxjNTFD",
    "outputId": "541e89eb-f40c-48fa-f8b1-7cdea505840a"
   },
   "outputs": [
    {
     "data": {
      "text/plain": [
       "SelectFromModel(estimator=RandomForestClassifier(bootstrap=True, ccp_alpha=0.0,\n",
       "                                                 class_weight=None,\n",
       "                                                 criterion='gini',\n",
       "                                                 max_depth=None,\n",
       "                                                 max_features='auto',\n",
       "                                                 max_leaf_nodes=None,\n",
       "                                                 max_samples=None,\n",
       "                                                 min_impurity_decrease=0.0,\n",
       "                                                 min_impurity_split=None,\n",
       "                                                 min_samples_leaf=1,\n",
       "                                                 min_samples_split=2,\n",
       "                                                 min_weight_fraction_leaf=0.0,\n",
       "                                                 n_estimators=100, n_jobs=None,\n",
       "                                                 oob_score=False,\n",
       "                                                 random_state=5, verbose=0,\n",
       "                                                 warm_start=False),\n",
       "                max_features=None, norm_order=1, prefit=False, threshold=None)"
      ]
     },
     "execution_count": 23,
     "metadata": {
      "tags": []
     },
     "output_type": "execute_result"
    }
   ],
   "source": [
    "sel = SelectFromModel(RandomForestClassifier(n_estimators = 100,random_state=5))\n",
    "sel.fit(X_train, y_train)"
   ]
  },
  {
   "cell_type": "code",
   "execution_count": null,
   "metadata": {
    "colab": {
     "base_uri": "https://localhost:8080/"
    },
    "id": "3yQjx_9SPEak",
    "outputId": "ac1ba307-f0a1-4d18-c122-30a5946cde25"
   },
   "outputs": [
    {
     "data": {
      "text/plain": [
       "array([False,  True, False, False, False, False,  True,  True, False,\n",
       "        True,  True])"
      ]
     },
     "execution_count": 24,
     "metadata": {
      "tags": []
     },
     "output_type": "execute_result"
    }
   ],
   "source": [
    "sel.get_support()"
   ]
  },
  {
   "cell_type": "code",
   "execution_count": null,
   "metadata": {
    "colab": {
     "base_uri": "https://localhost:8080/"
    },
    "id": "oWwDVCOKZQib",
    "outputId": "3e23f469-243c-4c0a-f4f6-72427c781d48"
   },
   "outputs": [
    {
     "name": "stdout",
     "output_type": "stream",
     "text": [
      "Index(['volatile_acidity', 'total_sulfur_dioxide', 'density', 'sulphates',\n",
      "       'alcohol'],\n",
      "      dtype='object')\n"
     ]
    }
   ],
   "source": [
    "selected_feat= X_train.columns[(sel.get_support())]\n",
    "print(selected_feat)"
   ]
  },
  {
   "cell_type": "markdown",
   "metadata": {
    "id": "_4iImDQdvX4i"
   },
   "source": [
    "##Random Forest Regression with selected features"
   ]
  },
  {
   "cell_type": "code",
   "execution_count": null,
   "metadata": {
    "id": "eVG8Su_cPrYr"
   },
   "outputs": [],
   "source": [
    "# Transform the data to create a new dataset containing only the most important features\n",
    "# Note: We have to apply the transform to both the training X and test X data.\n",
    "X_train_select = sel.transform(X_train)\n",
    "X_test_select = sel.transform(X_test)"
   ]
  },
  {
   "cell_type": "code",
   "execution_count": null,
   "metadata": {
    "colab": {
     "base_uri": "https://localhost:8080/"
    },
    "id": "nBokl7B2Pwz7",
    "outputId": "b3dbe7de-57bf-4e4a-8cce-3fa43510eeff"
   },
   "outputs": [
    {
     "data": {
      "text/plain": [
       "RandomForestRegressor(bootstrap=True, ccp_alpha=0.0, criterion='mse',\n",
       "                      max_depth=None, max_features='auto', max_leaf_nodes=None,\n",
       "                      max_samples=None, min_impurity_decrease=0.0,\n",
       "                      min_impurity_split=None, min_samples_leaf=1,\n",
       "                      min_samples_split=2, min_weight_fraction_leaf=0.0,\n",
       "                      n_estimators=100, n_jobs=None, oob_score=False,\n",
       "                      random_state=10, verbose=0, warm_start=False)"
      ]
     },
     "execution_count": 27,
     "metadata": {
      "tags": []
     },
     "output_type": "execute_result"
    }
   ],
   "source": [
    "# Create a new random forest classifier for the most important features\n",
    "RFR_select1 = RandomForestRegressor(n_estimators = 100, random_state = 10)\n",
    "\n",
    "# Train the new classifier on the new dataset containing the most important features\n",
    "RFR_select1.fit(X_train_select, y_train)"
   ]
  },
  {
   "cell_type": "code",
   "execution_count": null,
   "metadata": {
    "id": "rHvov8XcXdla"
   },
   "outputs": [],
   "source": [
    "#model prediction\n",
    "RFR_select1_pred = RFR_select1.predict(X_test_select)"
   ]
  },
  {
   "cell_type": "code",
   "execution_count": null,
   "metadata": {
    "colab": {
     "base_uri": "https://localhost:8080/",
     "height": 419
    },
    "id": "OQgfB8uNbVwQ",
    "outputId": "f5a6495b-6f67-472a-8903-a7f2be88eb7e"
   },
   "outputs": [
    {
     "data": {
      "text/html": [
       "<div>\n",
       "<style scoped>\n",
       "    .dataframe tbody tr th:only-of-type {\n",
       "        vertical-align: middle;\n",
       "    }\n",
       "\n",
       "    .dataframe tbody tr th {\n",
       "        vertical-align: top;\n",
       "    }\n",
       "\n",
       "    .dataframe thead th {\n",
       "        text-align: right;\n",
       "    }\n",
       "</style>\n",
       "<table border=\"1\" class=\"dataframe\">\n",
       "  <thead>\n",
       "    <tr style=\"text-align: right;\">\n",
       "      <th></th>\n",
       "      <th>Real Values</th>\n",
       "      <th>Predicted Values</th>\n",
       "    </tr>\n",
       "  </thead>\n",
       "  <tbody>\n",
       "    <tr>\n",
       "      <th>1518</th>\n",
       "      <td>5</td>\n",
       "      <td>5.08</td>\n",
       "    </tr>\n",
       "    <tr>\n",
       "      <th>1246</th>\n",
       "      <td>5</td>\n",
       "      <td>5.38</td>\n",
       "    </tr>\n",
       "    <tr>\n",
       "      <th>544</th>\n",
       "      <td>6</td>\n",
       "      <td>5.55</td>\n",
       "    </tr>\n",
       "    <tr>\n",
       "      <th>1343</th>\n",
       "      <td>6</td>\n",
       "      <td>5.71</td>\n",
       "    </tr>\n",
       "    <tr>\n",
       "      <th>428</th>\n",
       "      <td>5</td>\n",
       "      <td>5.58</td>\n",
       "    </tr>\n",
       "    <tr>\n",
       "      <th>...</th>\n",
       "      <td>...</td>\n",
       "      <td>...</td>\n",
       "    </tr>\n",
       "    <tr>\n",
       "      <th>174</th>\n",
       "      <td>4</td>\n",
       "      <td>5.80</td>\n",
       "    </tr>\n",
       "    <tr>\n",
       "      <th>387</th>\n",
       "      <td>6</td>\n",
       "      <td>5.73</td>\n",
       "    </tr>\n",
       "    <tr>\n",
       "      <th>1560</th>\n",
       "      <td>6</td>\n",
       "      <td>5.50</td>\n",
       "    </tr>\n",
       "    <tr>\n",
       "      <th>846</th>\n",
       "      <td>5</td>\n",
       "      <td>5.19</td>\n",
       "    </tr>\n",
       "    <tr>\n",
       "      <th>1567</th>\n",
       "      <td>5</td>\n",
       "      <td>4.94</td>\n",
       "    </tr>\n",
       "  </tbody>\n",
       "</table>\n",
       "<p>480 rows × 2 columns</p>\n",
       "</div>"
      ],
      "text/plain": [
       "      Real Values  Predicted Values\n",
       "1518            5              5.08\n",
       "1246            5              5.38\n",
       "544             6              5.55\n",
       "1343            6              5.71\n",
       "428             5              5.58\n",
       "...           ...               ...\n",
       "174             4              5.80\n",
       "387             6              5.73\n",
       "1560            6              5.50\n",
       "846             5              5.19\n",
       "1567            5              4.94\n",
       "\n",
       "[480 rows x 2 columns]"
      ]
     },
     "execution_count": 29,
     "metadata": {
      "tags": []
     },
     "output_type": "execute_result"
    }
   ],
   "source": [
    "#result\n",
    "result = pd.DataFrame({'Real Values':y_test, 'Predicted Values':RFR_select1_pred})\n",
    "result"
   ]
  },
  {
   "cell_type": "markdown",
   "metadata": {
    "id": "5fIU6CaJvMmm"
   },
   "source": [
    "###Evaluation"
   ]
  },
  {
   "cell_type": "code",
   "execution_count": null,
   "metadata": {
    "colab": {
     "base_uri": "https://localhost:8080/"
    },
    "id": "IF4X7jdSbXtj",
    "outputId": "506307b6-4506-4fad-b18f-9cdd0ab8cee1"
   },
   "outputs": [
    {
     "name": "stdout",
     "output_type": "stream",
     "text": [
      "The MSE of this model is 0.3929\n"
     ]
    }
   ],
   "source": [
    "#MSE\n",
    "RFR_select1_mse = mean_squared_error(y_test,RFR_select1_pred)\n",
    "print(\"The MSE of this model is {:.4f}\".format(RFR_select1_mse))"
   ]
  },
  {
   "cell_type": "code",
   "execution_count": null,
   "metadata": {
    "colab": {
     "base_uri": "https://localhost:8080/"
    },
    "id": "rBn-pfEevL6W",
    "outputId": "b571193e-f2d2-4562-87c6-77ee15239902"
   },
   "outputs": [
    {
     "name": "stdout",
     "output_type": "stream",
     "text": [
      "The score of Random Forest Regression model is 0.4125\n"
     ]
    }
   ],
   "source": [
    "#model score\n",
    "print('The score of Random Forest Regression model is {:.4f}'.format(RFR_select1.score(X_test_select,y_test)))"
   ]
  },
  {
   "cell_type": "markdown",
   "metadata": {
    "id": "eMLo-HgZSkqs"
   },
   "source": [
    "##Multiple Linear regression with selected features"
   ]
  },
  {
   "cell_type": "code",
   "execution_count": null,
   "metadata": {
    "colab": {
     "base_uri": "https://localhost:8080/"
    },
    "id": "vKPZ7tWQSm0V",
    "outputId": "db2f7a81-706b-47ba-e3b9-2de04f910c3a"
   },
   "outputs": [
    {
     "data": {
      "text/plain": [
       "LinearRegression(copy_X=True, fit_intercept=True, n_jobs=None, normalize=False)"
      ]
     },
     "execution_count": 32,
     "metadata": {
      "tags": []
     },
     "output_type": "execute_result"
    }
   ],
   "source": [
    "multi_linear_sel = LinearRegression()\n",
    "multi_linear_sel.fit(X_train_select, y_train)"
   ]
  },
  {
   "cell_type": "code",
   "execution_count": null,
   "metadata": {
    "id": "O0Z3x8n4S8dt"
   },
   "outputs": [],
   "source": [
    "multi_linear_sel_pred = multi_linear_sel.predict(X_test_select)"
   ]
  },
  {
   "cell_type": "code",
   "execution_count": null,
   "metadata": {
    "colab": {
     "base_uri": "https://localhost:8080/",
     "height": 419
    },
    "id": "8nE7LtH2TAZN",
    "outputId": "95c20d53-c78b-47b4-af28-ea1becc74381"
   },
   "outputs": [
    {
     "data": {
      "text/html": [
       "<div>\n",
       "<style scoped>\n",
       "    .dataframe tbody tr th:only-of-type {\n",
       "        vertical-align: middle;\n",
       "    }\n",
       "\n",
       "    .dataframe tbody tr th {\n",
       "        vertical-align: top;\n",
       "    }\n",
       "\n",
       "    .dataframe thead th {\n",
       "        text-align: right;\n",
       "    }\n",
       "</style>\n",
       "<table border=\"1\" class=\"dataframe\">\n",
       "  <thead>\n",
       "    <tr style=\"text-align: right;\">\n",
       "      <th></th>\n",
       "      <th>Real Values</th>\n",
       "      <th>Predicted Values</th>\n",
       "    </tr>\n",
       "  </thead>\n",
       "  <tbody>\n",
       "    <tr>\n",
       "      <th>1518</th>\n",
       "      <td>5</td>\n",
       "      <td>5.08</td>\n",
       "    </tr>\n",
       "    <tr>\n",
       "      <th>1246</th>\n",
       "      <td>5</td>\n",
       "      <td>5.38</td>\n",
       "    </tr>\n",
       "    <tr>\n",
       "      <th>544</th>\n",
       "      <td>6</td>\n",
       "      <td>5.55</td>\n",
       "    </tr>\n",
       "    <tr>\n",
       "      <th>1343</th>\n",
       "      <td>6</td>\n",
       "      <td>5.71</td>\n",
       "    </tr>\n",
       "    <tr>\n",
       "      <th>428</th>\n",
       "      <td>5</td>\n",
       "      <td>5.58</td>\n",
       "    </tr>\n",
       "    <tr>\n",
       "      <th>...</th>\n",
       "      <td>...</td>\n",
       "      <td>...</td>\n",
       "    </tr>\n",
       "    <tr>\n",
       "      <th>174</th>\n",
       "      <td>4</td>\n",
       "      <td>5.80</td>\n",
       "    </tr>\n",
       "    <tr>\n",
       "      <th>387</th>\n",
       "      <td>6</td>\n",
       "      <td>5.73</td>\n",
       "    </tr>\n",
       "    <tr>\n",
       "      <th>1560</th>\n",
       "      <td>6</td>\n",
       "      <td>5.50</td>\n",
       "    </tr>\n",
       "    <tr>\n",
       "      <th>846</th>\n",
       "      <td>5</td>\n",
       "      <td>5.19</td>\n",
       "    </tr>\n",
       "    <tr>\n",
       "      <th>1567</th>\n",
       "      <td>5</td>\n",
       "      <td>4.94</td>\n",
       "    </tr>\n",
       "  </tbody>\n",
       "</table>\n",
       "<p>480 rows × 2 columns</p>\n",
       "</div>"
      ],
      "text/plain": [
       "      Real Values  Predicted Values\n",
       "1518            5              5.08\n",
       "1246            5              5.38\n",
       "544             6              5.55\n",
       "1343            6              5.71\n",
       "428             5              5.58\n",
       "...           ...               ...\n",
       "174             4              5.80\n",
       "387             6              5.73\n",
       "1560            6              5.50\n",
       "846             5              5.19\n",
       "1567            5              4.94\n",
       "\n",
       "[480 rows x 2 columns]"
      ]
     },
     "execution_count": 34,
     "metadata": {
      "tags": []
     },
     "output_type": "execute_result"
    }
   ],
   "source": [
    "#result\n",
    "multi_linear_result = pd.DataFrame({'Real Values':y_test, 'Predicted Values':multi_linear_sel_pred})\n",
    "result"
   ]
  },
  {
   "cell_type": "code",
   "execution_count": null,
   "metadata": {
    "id": "uKabh1M_1TRW"
   },
   "outputs": [],
   "source": [
    "# with statsmodels\n",
    "X_train_select = sm.add_constant(X_train_select) # adding a constant\n",
    "X_test_select = sm.add_constant(X_test_select)"
   ]
  },
  {
   "cell_type": "code",
   "execution_count": null,
   "metadata": {
    "id": "65ki-eii1pPp"
   },
   "outputs": [],
   "source": [
    "multi_linear_model = sm.OLS(y_train, X_train_select).fit()\n",
    "predictions = multi_linear_model.predict(X_test_select) "
   ]
  },
  {
   "cell_type": "markdown",
   "metadata": {
    "id": "2zah-eQR1RBg"
   },
   "source": [
    "###Evaluations"
   ]
  },
  {
   "cell_type": "code",
   "execution_count": null,
   "metadata": {
    "colab": {
     "base_uri": "https://localhost:8080/",
     "height": 562
    },
    "id": "adt2eNMi2Aoj",
    "outputId": "de86de35-7d34-4f05-ca08-f32bc795d6d0"
   },
   "outputs": [
    {
     "data": {
      "text/html": [
       "<table class=\"simpletable\">\n",
       "<caption>OLS Regression Results</caption>\n",
       "<tr>\n",
       "  <th>Dep. Variable:</th>         <td>quality</td>     <th>  R-squared:         </th> <td>   0.346</td> \n",
       "</tr>\n",
       "<tr>\n",
       "  <th>Model:</th>                   <td>OLS</td>       <th>  Adj. R-squared:    </th> <td>   0.344</td> \n",
       "</tr>\n",
       "<tr>\n",
       "  <th>Method:</th>             <td>Least Squares</td>  <th>  F-statistic:       </th> <td>   118.0</td> \n",
       "</tr>\n",
       "<tr>\n",
       "  <th>Date:</th>             <td>Fri, 26 Feb 2021</td> <th>  Prob (F-statistic):</th> <td>3.11e-100</td>\n",
       "</tr>\n",
       "<tr>\n",
       "  <th>Time:</th>                 <td>19:35:55</td>     <th>  Log-Likelihood:    </th> <td> -1103.4</td> \n",
       "</tr>\n",
       "<tr>\n",
       "  <th>No. Observations:</th>      <td>  1119</td>      <th>  AIC:               </th> <td>   2219.</td> \n",
       "</tr>\n",
       "<tr>\n",
       "  <th>Df Residuals:</th>          <td>  1113</td>      <th>  BIC:               </th> <td>   2249.</td> \n",
       "</tr>\n",
       "<tr>\n",
       "  <th>Df Model:</th>              <td>     5</td>      <th>                     </th>     <td> </td>    \n",
       "</tr>\n",
       "<tr>\n",
       "  <th>Covariance Type:</th>      <td>nonrobust</td>    <th>                     </th>     <td> </td>    \n",
       "</tr>\n",
       "</table>\n",
       "<table class=\"simpletable\">\n",
       "<tr>\n",
       "    <td></td>       <th>coef</th>     <th>std err</th>      <th>t</th>      <th>P>|t|</th>  <th>[0.025</th>    <th>0.975]</th>  \n",
       "</tr>\n",
       "<tr>\n",
       "  <th>const</th> <td>    9.2306</td> <td>   12.083</td> <td>    0.764</td> <td> 0.445</td> <td>  -14.477</td> <td>   32.938</td>\n",
       "</tr>\n",
       "<tr>\n",
       "  <th>x1</th>    <td>   -1.1298</td> <td>    0.115</td> <td>   -9.842</td> <td> 0.000</td> <td>   -1.355</td> <td>   -0.905</td>\n",
       "</tr>\n",
       "<tr>\n",
       "  <th>x2</th>    <td>   -0.0021</td> <td>    0.001</td> <td>   -3.555</td> <td> 0.000</td> <td>   -0.003</td> <td>   -0.001</td>\n",
       "</tr>\n",
       "<tr>\n",
       "  <th>x3</th>    <td>   -6.5048</td> <td>   12.011</td> <td>   -0.542</td> <td> 0.588</td> <td>  -30.072</td> <td>   17.062</td>\n",
       "</tr>\n",
       "<tr>\n",
       "  <th>x4</th>    <td>    0.7213</td> <td>    0.119</td> <td>    6.063</td> <td> 0.000</td> <td>    0.488</td> <td>    0.955</td>\n",
       "</tr>\n",
       "<tr>\n",
       "  <th>x5</th>    <td>    0.2996</td> <td>    0.022</td> <td>   13.415</td> <td> 0.000</td> <td>    0.256</td> <td>    0.343</td>\n",
       "</tr>\n",
       "</table>\n",
       "<table class=\"simpletable\">\n",
       "<tr>\n",
       "  <th>Omnibus:</th>       <td>19.549</td> <th>  Durbin-Watson:     </th> <td>   2.119</td>\n",
       "</tr>\n",
       "<tr>\n",
       "  <th>Prob(Omnibus):</th> <td> 0.000</td> <th>  Jarque-Bera (JB):  </th> <td>  31.025</td>\n",
       "</tr>\n",
       "<tr>\n",
       "  <th>Skew:</th>          <td>-0.136</td> <th>  Prob(JB):          </th> <td>1.83e-07</td>\n",
       "</tr>\n",
       "<tr>\n",
       "  <th>Kurtosis:</th>      <td> 3.769</td> <th>  Cond. No.          </th> <td>5.01e+04</td>\n",
       "</tr>\n",
       "</table><br/><br/>Warnings:<br/>[1] Standard Errors assume that the covariance matrix of the errors is correctly specified.<br/>[2] The condition number is large, 5.01e+04. This might indicate that there are<br/>strong multicollinearity or other numerical problems."
      ],
      "text/plain": [
       "<class 'statsmodels.iolib.summary.Summary'>\n",
       "\"\"\"\n",
       "                            OLS Regression Results                            \n",
       "==============================================================================\n",
       "Dep. Variable:                quality   R-squared:                       0.346\n",
       "Model:                            OLS   Adj. R-squared:                  0.344\n",
       "Method:                 Least Squares   F-statistic:                     118.0\n",
       "Date:                Fri, 26 Feb 2021   Prob (F-statistic):          3.11e-100\n",
       "Time:                        19:35:55   Log-Likelihood:                -1103.4\n",
       "No. Observations:                1119   AIC:                             2219.\n",
       "Df Residuals:                    1113   BIC:                             2249.\n",
       "Df Model:                           5                                         \n",
       "Covariance Type:            nonrobust                                         \n",
       "==============================================================================\n",
       "                 coef    std err          t      P>|t|      [0.025      0.975]\n",
       "------------------------------------------------------------------------------\n",
       "const          9.2306     12.083      0.764      0.445     -14.477      32.938\n",
       "x1            -1.1298      0.115     -9.842      0.000      -1.355      -0.905\n",
       "x2            -0.0021      0.001     -3.555      0.000      -0.003      -0.001\n",
       "x3            -6.5048     12.011     -0.542      0.588     -30.072      17.062\n",
       "x4             0.7213      0.119      6.063      0.000       0.488       0.955\n",
       "x5             0.2996      0.022     13.415      0.000       0.256       0.343\n",
       "==============================================================================\n",
       "Omnibus:                       19.549   Durbin-Watson:                   2.119\n",
       "Prob(Omnibus):                  0.000   Jarque-Bera (JB):               31.025\n",
       "Skew:                          -0.136   Prob(JB):                     1.83e-07\n",
       "Kurtosis:                       3.769   Cond. No.                     5.01e+04\n",
       "==============================================================================\n",
       "\n",
       "Warnings:\n",
       "[1] Standard Errors assume that the covariance matrix of the errors is correctly specified.\n",
       "[2] The condition number is large, 5.01e+04. This might indicate that there are\n",
       "strong multicollinearity or other numerical problems.\n",
       "\"\"\""
      ]
     },
     "execution_count": 37,
     "metadata": {
      "tags": []
     },
     "output_type": "execute_result"
    }
   ],
   "source": [
    "multi_linear_model.summary()"
   ]
  },
  {
   "cell_type": "code",
   "execution_count": null,
   "metadata": {
    "colab": {
     "base_uri": "https://localhost:8080/"
    },
    "id": "T1JSHw0_TFQ6",
    "outputId": "9c5b6a76-e277-4076-9707-b3cfb5f939c7"
   },
   "outputs": [
    {
     "name": "stdout",
     "output_type": "stream",
     "text": [
      "The MSE of this model is 0.4462\n"
     ]
    }
   ],
   "source": [
    "#MSE\n",
    "multi_linear_mse = mean_squared_error(y_test,predictions)\n",
    "print(\"The MSE of this model is {:.4f}\".format(multi_linear_mse))"
   ]
  },
  {
   "cell_type": "code",
   "execution_count": null,
   "metadata": {
    "colab": {
     "base_uri": "https://localhost:8080/"
    },
    "id": "RsmntmRNqbAk",
    "outputId": "82c5c74b-dbff-46ac-c2fc-e855b7438597"
   },
   "outputs": [
    {
     "name": "stdout",
     "output_type": "stream",
     "text": [
      "['volatile_acidity', 'chlorides', 'total_sulfur_dioxide', 'pH', 'sulphates', 'alcohol']\n"
     ]
    }
   ],
   "source": [
    "cols = ['fixed_acidity','volatile_acidity',\t'citric_acid',\t'residual_sugar',\t'chlorides',\t'free_sulfur_dioxide',\n",
    "        'total_sulfur_dioxide',\t'density',\t'pH',\t'sulphates',\t'alcohol'\t]\n",
    "\n",
    "pmax = 1\n",
    "while (len(cols)>0):\n",
    "    p= []\n",
    "    X = df[cols]\n",
    "    X = sm.add_constant(X)\n",
    "    y = df[\"quality\"]\n",
    "    model = sm.OLS(y,X).fit()\n",
    "    p = pd.Series(model.pvalues.values[1:],index = cols)      \n",
    "    pmax = max(p)\n",
    "    feature_with_p_max = p.idxmax()\n",
    "    if(pmax>0.01):\n",
    "        cols.remove(feature_with_p_max)\n",
    "    else:\n",
    "        break\n",
    "selected_features_BE = cols\n",
    "print(selected_features_BE)"
   ]
  },
  {
   "cell_type": "code",
   "execution_count": null,
   "metadata": {
    "colab": {
     "base_uri": "https://localhost:8080/",
     "height": 419
    },
    "id": "eiXZ1HMz04Mu",
    "outputId": "9acf3981-ecf5-4475-f0fc-d494d9e9dba9"
   },
   "outputs": [
    {
     "data": {
      "text/html": [
       "<div>\n",
       "<style scoped>\n",
       "    .dataframe tbody tr th:only-of-type {\n",
       "        vertical-align: middle;\n",
       "    }\n",
       "\n",
       "    .dataframe tbody tr th {\n",
       "        vertical-align: top;\n",
       "    }\n",
       "\n",
       "    .dataframe thead th {\n",
       "        text-align: right;\n",
       "    }\n",
       "</style>\n",
       "<table border=\"1\" class=\"dataframe\">\n",
       "  <thead>\n",
       "    <tr style=\"text-align: right;\">\n",
       "      <th></th>\n",
       "      <th>volatile_acidity</th>\n",
       "      <th>chlorides</th>\n",
       "      <th>total_sulfur_dioxide</th>\n",
       "      <th>pH</th>\n",
       "      <th>sulphates</th>\n",
       "      <th>alcohol</th>\n",
       "      <th>quality</th>\n",
       "    </tr>\n",
       "  </thead>\n",
       "  <tbody>\n",
       "    <tr>\n",
       "      <th>0</th>\n",
       "      <td>0.390</td>\n",
       "      <td>0.073</td>\n",
       "      <td>26.0</td>\n",
       "      <td>3.34</td>\n",
       "      <td>0.75</td>\n",
       "      <td>10.20</td>\n",
       "      <td>6</td>\n",
       "    </tr>\n",
       "    <tr>\n",
       "      <th>1</th>\n",
       "      <td>0.690</td>\n",
       "      <td>0.124</td>\n",
       "      <td>58.0</td>\n",
       "      <td>3.46</td>\n",
       "      <td>0.72</td>\n",
       "      <td>10.20</td>\n",
       "      <td>5</td>\n",
       "    </tr>\n",
       "    <tr>\n",
       "      <th>2</th>\n",
       "      <td>0.855</td>\n",
       "      <td>0.064</td>\n",
       "      <td>38.0</td>\n",
       "      <td>3.30</td>\n",
       "      <td>0.56</td>\n",
       "      <td>10.75</td>\n",
       "      <td>6</td>\n",
       "    </tr>\n",
       "    <tr>\n",
       "      <th>3</th>\n",
       "      <td>0.500</td>\n",
       "      <td>0.071</td>\n",
       "      <td>102.0</td>\n",
       "      <td>3.35</td>\n",
       "      <td>0.80</td>\n",
       "      <td>10.50</td>\n",
       "      <td>5</td>\n",
       "    </tr>\n",
       "    <tr>\n",
       "      <th>4</th>\n",
       "      <td>0.500</td>\n",
       "      <td>0.082</td>\n",
       "      <td>102.0</td>\n",
       "      <td>3.39</td>\n",
       "      <td>0.48</td>\n",
       "      <td>9.50</td>\n",
       "      <td>5</td>\n",
       "    </tr>\n",
       "    <tr>\n",
       "      <th>...</th>\n",
       "      <td>...</td>\n",
       "      <td>...</td>\n",
       "      <td>...</td>\n",
       "      <td>...</td>\n",
       "      <td>...</td>\n",
       "      <td>...</td>\n",
       "      <td>...</td>\n",
       "    </tr>\n",
       "    <tr>\n",
       "      <th>1594</th>\n",
       "      <td>0.685</td>\n",
       "      <td>0.088</td>\n",
       "      <td>92.0</td>\n",
       "      <td>3.28</td>\n",
       "      <td>0.62</td>\n",
       "      <td>9.40</td>\n",
       "      <td>5</td>\n",
       "    </tr>\n",
       "    <tr>\n",
       "      <th>1595</th>\n",
       "      <td>0.870</td>\n",
       "      <td>0.084</td>\n",
       "      <td>31.0</td>\n",
       "      <td>3.25</td>\n",
       "      <td>0.50</td>\n",
       "      <td>9.80</td>\n",
       "      <td>5</td>\n",
       "    </tr>\n",
       "    <tr>\n",
       "      <th>1596</th>\n",
       "      <td>0.695</td>\n",
       "      <td>0.076</td>\n",
       "      <td>20.0</td>\n",
       "      <td>3.29</td>\n",
       "      <td>0.54</td>\n",
       "      <td>10.10</td>\n",
       "      <td>5</td>\n",
       "    </tr>\n",
       "    <tr>\n",
       "      <th>1597</th>\n",
       "      <td>0.580</td>\n",
       "      <td>0.088</td>\n",
       "      <td>18.0</td>\n",
       "      <td>3.32</td>\n",
       "      <td>0.56</td>\n",
       "      <td>10.50</td>\n",
       "      <td>7</td>\n",
       "    </tr>\n",
       "    <tr>\n",
       "      <th>1598</th>\n",
       "      <td>0.320</td>\n",
       "      <td>0.081</td>\n",
       "      <td>67.0</td>\n",
       "      <td>3.32</td>\n",
       "      <td>0.92</td>\n",
       "      <td>10.80</td>\n",
       "      <td>7</td>\n",
       "    </tr>\n",
       "  </tbody>\n",
       "</table>\n",
       "<p>1599 rows × 7 columns</p>\n",
       "</div>"
      ],
      "text/plain": [
       "      volatile_acidity  chlorides  ...  alcohol  quality\n",
       "0                0.390      0.073  ...    10.20        6\n",
       "1                0.690      0.124  ...    10.20        5\n",
       "2                0.855      0.064  ...    10.75        6\n",
       "3                0.500      0.071  ...    10.50        5\n",
       "4                0.500      0.082  ...     9.50        5\n",
       "...                ...        ...  ...      ...      ...\n",
       "1594             0.685      0.088  ...     9.40        5\n",
       "1595             0.870      0.084  ...     9.80        5\n",
       "1596             0.695      0.076  ...    10.10        5\n",
       "1597             0.580      0.088  ...    10.50        7\n",
       "1598             0.320      0.081  ...    10.80        7\n",
       "\n",
       "[1599 rows x 7 columns]"
      ]
     },
     "execution_count": 40,
     "metadata": {
      "tags": []
     },
     "output_type": "execute_result"
    }
   ],
   "source": [
    "SELECTED_DF = df[['volatile_acidity', 'chlorides', 'total_sulfur_dioxide', 'pH', 'sulphates', 'alcohol','quality']]\n",
    "SELECTED_DF"
   ]
  },
  {
   "cell_type": "markdown",
   "metadata": {
    "id": "rFxK8sC528JH"
   },
   "source": [
    "##RFR different features"
   ]
  },
  {
   "cell_type": "code",
   "execution_count": null,
   "metadata": {
    "id": "EVxjmW491xFf"
   },
   "outputs": [],
   "source": [
    "#Features: all columns except last one\n",
    "X_s =SELECTED_DF .iloc[:,SELECTED_DF.columns != 'quality']\n",
    "#target is default.payment.next.month\n",
    "y_s = SELECTED_DF['quality']"
   ]
  },
  {
   "cell_type": "code",
   "execution_count": null,
   "metadata": {
    "id": "2XhALYmU2EPO"
   },
   "outputs": [],
   "source": [
    "#split into training and testing sets\n",
    "X_train_s, X_test_s, y_train_s, y_test_s = train_test_split(X_s, y_s, test_size=0.3, random_state=10)"
   ]
  },
  {
   "cell_type": "code",
   "execution_count": null,
   "metadata": {
    "id": "r6cstddT2RtA"
   },
   "outputs": [],
   "source": [
    "#RFR\n",
    "RFR_s = RandomForestRegressor(n_estimators = 100, random_state = 10)"
   ]
  },
  {
   "cell_type": "code",
   "execution_count": null,
   "metadata": {
    "colab": {
     "base_uri": "https://localhost:8080/"
    },
    "id": "G5yTgVFy2ch9",
    "outputId": "6ef9b93d-d936-40b9-9719-c438751cacfe"
   },
   "outputs": [
    {
     "data": {
      "text/plain": [
       "RandomForestRegressor(bootstrap=True, ccp_alpha=0.0, criterion='mse',\n",
       "                      max_depth=None, max_features='auto', max_leaf_nodes=None,\n",
       "                      max_samples=None, min_impurity_decrease=0.0,\n",
       "                      min_impurity_split=None, min_samples_leaf=1,\n",
       "                      min_samples_split=2, min_weight_fraction_leaf=0.0,\n",
       "                      n_estimators=100, n_jobs=None, oob_score=False,\n",
       "                      random_state=10, verbose=0, warm_start=False)"
      ]
     },
     "execution_count": 44,
     "metadata": {
      "tags": []
     },
     "output_type": "execute_result"
    }
   ],
   "source": [
    "RFR_s.fit(X_train_s, y_train_s)"
   ]
  },
  {
   "cell_type": "code",
   "execution_count": null,
   "metadata": {
    "id": "f5g_yfWB2jou"
   },
   "outputs": [],
   "source": [
    "RFR_pred_s = RFR_s.predict(X_test_s)"
   ]
  },
  {
   "cell_type": "code",
   "execution_count": null,
   "metadata": {
    "colab": {
     "base_uri": "https://localhost:8080/"
    },
    "id": "S2-9BFPv7E8h",
    "outputId": "90456bb2-38cd-44d5-cb46-c07b026498ca"
   },
   "outputs": [
    {
     "data": {
      "text/html": [
       "<div>\n",
       "<style scoped>\n",
       "    .dataframe tbody tr th:only-of-type {\n",
       "        vertical-align: middle;\n",
       "    }\n",
       "\n",
       "    .dataframe tbody tr th {\n",
       "        vertical-align: top;\n",
       "    }\n",
       "\n",
       "    .dataframe thead th {\n",
       "        text-align: right;\n",
       "    }\n",
       "</style>\n",
       "<table border=\"1\" class=\"dataframe\">\n",
       "  <thead>\n",
       "    <tr style=\"text-align: right;\">\n",
       "      <th></th>\n",
       "      <th>Real Values</th>\n",
       "      <th>Predicted Values</th>\n",
       "    </tr>\n",
       "  </thead>\n",
       "  <tbody>\n",
       "    <tr>\n",
       "      <th>1518</th>\n",
       "      <td>5</td>\n",
       "      <td>5.07</td>\n",
       "    </tr>\n",
       "    <tr>\n",
       "      <th>1246</th>\n",
       "      <td>5</td>\n",
       "      <td>5.50</td>\n",
       "    </tr>\n",
       "    <tr>\n",
       "      <th>544</th>\n",
       "      <td>6</td>\n",
       "      <td>5.66</td>\n",
       "    </tr>\n",
       "    <tr>\n",
       "      <th>1343</th>\n",
       "      <td>6</td>\n",
       "      <td>5.73</td>\n",
       "    </tr>\n",
       "    <tr>\n",
       "      <th>428</th>\n",
       "      <td>5</td>\n",
       "      <td>5.96</td>\n",
       "    </tr>\n",
       "    <tr>\n",
       "      <th>...</th>\n",
       "      <td>...</td>\n",
       "      <td>...</td>\n",
       "    </tr>\n",
       "    <tr>\n",
       "      <th>174</th>\n",
       "      <td>4</td>\n",
       "      <td>5.77</td>\n",
       "    </tr>\n",
       "    <tr>\n",
       "      <th>387</th>\n",
       "      <td>6</td>\n",
       "      <td>6.05</td>\n",
       "    </tr>\n",
       "    <tr>\n",
       "      <th>1560</th>\n",
       "      <td>6</td>\n",
       "      <td>5.55</td>\n",
       "    </tr>\n",
       "    <tr>\n",
       "      <th>846</th>\n",
       "      <td>5</td>\n",
       "      <td>5.31</td>\n",
       "    </tr>\n",
       "    <tr>\n",
       "      <th>1567</th>\n",
       "      <td>5</td>\n",
       "      <td>4.87</td>\n",
       "    </tr>\n",
       "  </tbody>\n",
       "</table>\n",
       "<p>480 rows × 2 columns</p>\n",
       "</div>"
      ],
      "text/plain": [
       "      Real Values  Predicted Values\n",
       "1518            5              5.07\n",
       "1246            5              5.50\n",
       "544             6              5.66\n",
       "1343            6              5.73\n",
       "428             5              5.96\n",
       "...           ...               ...\n",
       "174             4              5.77\n",
       "387             6              6.05\n",
       "1560            6              5.55\n",
       "846             5              5.31\n",
       "1567            5              4.87\n",
       "\n",
       "[480 rows x 2 columns]"
      ]
     },
     "execution_count": 46,
     "metadata": {
      "tags": []
     },
     "output_type": "execute_result"
    }
   ],
   "source": [
    "#result\n",
    "result = pd.DataFrame({'Real Values':y_test_s, 'Predicted Values':RFR_pred_s})\n",
    "result"
   ]
  },
  {
   "cell_type": "markdown",
   "metadata": {
    "id": "8T4gvH2S6etV"
   },
   "source": [
    "###Evaluations"
   ]
  },
  {
   "cell_type": "code",
   "execution_count": null,
   "metadata": {
    "colab": {
     "base_uri": "https://localhost:8080/"
    },
    "id": "6NVV5Htc7MdP",
    "outputId": "81ebed95-c73d-46e5-b6b3-1f4170a850bf"
   },
   "outputs": [
    {
     "name": "stdout",
     "output_type": "stream",
     "text": [
      "The MSE of this model is 0.3975\n"
     ]
    }
   ],
   "source": [
    "#MSE\n",
    "RFR_s_mse = mean_squared_error(y_test_s,RFR_pred_s)\n",
    "print(\"The MSE of this model is {:.4f}\".format(RFR_s_mse))"
   ]
  },
  {
   "cell_type": "code",
   "execution_count": null,
   "metadata": {
    "colab": {
     "base_uri": "https://localhost:8080/"
    },
    "id": "Xpg81e6T7d-0",
    "outputId": "48a51fa6-3d6b-488c-9ba0-6915ace916dd"
   },
   "outputs": [
    {
     "name": "stdout",
     "output_type": "stream",
     "text": [
      "The score of Random Forest Regression model is 0.4056\n"
     ]
    }
   ],
   "source": [
    "#model score\n",
    "print('The score of Random Forest Regression model is {:.4f}'.format(RFR_s.score(X_test_s,y_test)))"
   ]
  },
  {
   "cell_type": "markdown",
   "metadata": {
    "id": "l7oKVPP58oQ3"
   },
   "source": [
    "##Multiple Linear regression with different features"
   ]
  },
  {
   "cell_type": "code",
   "execution_count": null,
   "metadata": {
    "colab": {
     "base_uri": "https://localhost:8080/"
    },
    "id": "2a5vVsd18oRA",
    "outputId": "a8cf1d59-d6b4-4a61-a6c4-af5b7bc87b59"
   },
   "outputs": [
    {
     "data": {
      "text/plain": [
       "LinearRegression(copy_X=True, fit_intercept=True, n_jobs=None, normalize=False)"
      ]
     },
     "execution_count": 49,
     "metadata": {
      "tags": []
     },
     "output_type": "execute_result"
    }
   ],
   "source": [
    "multi_linear_s = LinearRegression()\n",
    "multi_linear_s.fit(X_train_s, y_train)"
   ]
  },
  {
   "cell_type": "code",
   "execution_count": null,
   "metadata": {
    "id": "1YJZhBgE8oRA"
   },
   "outputs": [],
   "source": [
    "multi_linear_s_pred = multi_linear_s.predict(X_test_s)"
   ]
  },
  {
   "cell_type": "code",
   "execution_count": null,
   "metadata": {
    "colab": {
     "base_uri": "https://localhost:8080/"
    },
    "id": "JYfdPJ_h8oRA",
    "outputId": "42efb449-724d-48ff-e384-ec4aa6e65ed1"
   },
   "outputs": [
    {
     "data": {
      "text/html": [
       "<div>\n",
       "<style scoped>\n",
       "    .dataframe tbody tr th:only-of-type {\n",
       "        vertical-align: middle;\n",
       "    }\n",
       "\n",
       "    .dataframe tbody tr th {\n",
       "        vertical-align: top;\n",
       "    }\n",
       "\n",
       "    .dataframe thead th {\n",
       "        text-align: right;\n",
       "    }\n",
       "</style>\n",
       "<table border=\"1\" class=\"dataframe\">\n",
       "  <thead>\n",
       "    <tr style=\"text-align: right;\">\n",
       "      <th></th>\n",
       "      <th>Real Values</th>\n",
       "      <th>Predicted Values</th>\n",
       "    </tr>\n",
       "  </thead>\n",
       "  <tbody>\n",
       "    <tr>\n",
       "      <th>1518</th>\n",
       "      <td>5</td>\n",
       "      <td>5.07</td>\n",
       "    </tr>\n",
       "    <tr>\n",
       "      <th>1246</th>\n",
       "      <td>5</td>\n",
       "      <td>5.50</td>\n",
       "    </tr>\n",
       "    <tr>\n",
       "      <th>544</th>\n",
       "      <td>6</td>\n",
       "      <td>5.66</td>\n",
       "    </tr>\n",
       "    <tr>\n",
       "      <th>1343</th>\n",
       "      <td>6</td>\n",
       "      <td>5.73</td>\n",
       "    </tr>\n",
       "    <tr>\n",
       "      <th>428</th>\n",
       "      <td>5</td>\n",
       "      <td>5.96</td>\n",
       "    </tr>\n",
       "    <tr>\n",
       "      <th>...</th>\n",
       "      <td>...</td>\n",
       "      <td>...</td>\n",
       "    </tr>\n",
       "    <tr>\n",
       "      <th>174</th>\n",
       "      <td>4</td>\n",
       "      <td>5.77</td>\n",
       "    </tr>\n",
       "    <tr>\n",
       "      <th>387</th>\n",
       "      <td>6</td>\n",
       "      <td>6.05</td>\n",
       "    </tr>\n",
       "    <tr>\n",
       "      <th>1560</th>\n",
       "      <td>6</td>\n",
       "      <td>5.55</td>\n",
       "    </tr>\n",
       "    <tr>\n",
       "      <th>846</th>\n",
       "      <td>5</td>\n",
       "      <td>5.31</td>\n",
       "    </tr>\n",
       "    <tr>\n",
       "      <th>1567</th>\n",
       "      <td>5</td>\n",
       "      <td>4.87</td>\n",
       "    </tr>\n",
       "  </tbody>\n",
       "</table>\n",
       "<p>480 rows × 2 columns</p>\n",
       "</div>"
      ],
      "text/plain": [
       "      Real Values  Predicted Values\n",
       "1518            5              5.07\n",
       "1246            5              5.50\n",
       "544             6              5.66\n",
       "1343            6              5.73\n",
       "428             5              5.96\n",
       "...           ...               ...\n",
       "174             4              5.77\n",
       "387             6              6.05\n",
       "1560            6              5.55\n",
       "846             5              5.31\n",
       "1567            5              4.87\n",
       "\n",
       "[480 rows x 2 columns]"
      ]
     },
     "execution_count": 51,
     "metadata": {
      "tags": []
     },
     "output_type": "execute_result"
    }
   ],
   "source": [
    "#result\n",
    "multi_linear_s_result = pd.DataFrame({'Real Values':y_test_s, 'Predicted Values':multi_linear_s_pred})\n",
    "result"
   ]
  },
  {
   "cell_type": "code",
   "execution_count": null,
   "metadata": {
    "id": "S4u96wQe8oRB"
   },
   "outputs": [],
   "source": [
    "# with statsmodels\n",
    "X_train_s = sm.add_constant(X_train_s) # adding a constant\n",
    "X_test_s = sm.add_constant(X_test_s)"
   ]
  },
  {
   "cell_type": "code",
   "execution_count": null,
   "metadata": {
    "id": "hUMiHvGM8oRB"
   },
   "outputs": [],
   "source": [
    "multi_linear_model_s = sm.OLS(y_train_s, X_train_s).fit()\n",
    "predictions_s = multi_linear_model_s.predict(X_test_s) "
   ]
  },
  {
   "cell_type": "markdown",
   "metadata": {
    "id": "bE2H31VU8oRB"
   },
   "source": [
    "###Evaluations"
   ]
  },
  {
   "cell_type": "code",
   "execution_count": null,
   "metadata": {
    "colab": {
     "base_uri": "https://localhost:8080/"
    },
    "id": "iQZqwop88oRB",
    "outputId": "24b5003e-5221-40ac-aaa1-01a5c67b071c"
   },
   "outputs": [
    {
     "data": {
      "text/html": [
       "<table class=\"simpletable\">\n",
       "<caption>OLS Regression Results</caption>\n",
       "<tr>\n",
       "  <th>Dep. Variable:</th>         <td>quality</td>     <th>  R-squared:         </th> <td>   0.362</td> \n",
       "</tr>\n",
       "<tr>\n",
       "  <th>Model:</th>                   <td>OLS</td>       <th>  Adj. R-squared:    </th> <td>   0.359</td> \n",
       "</tr>\n",
       "<tr>\n",
       "  <th>Method:</th>             <td>Least Squares</td>  <th>  F-statistic:       </th> <td>   105.2</td> \n",
       "</tr>\n",
       "<tr>\n",
       "  <th>Date:</th>             <td>Fri, 26 Feb 2021</td> <th>  Prob (F-statistic):</th> <td>5.57e-105</td>\n",
       "</tr>\n",
       "<tr>\n",
       "  <th>Time:</th>                 <td>19:35:56</td>     <th>  Log-Likelihood:    </th> <td> -1089.8</td> \n",
       "</tr>\n",
       "<tr>\n",
       "  <th>No. Observations:</th>      <td>  1119</td>      <th>  AIC:               </th> <td>   2194.</td> \n",
       "</tr>\n",
       "<tr>\n",
       "  <th>Df Residuals:</th>          <td>  1112</td>      <th>  BIC:               </th> <td>   2229.</td> \n",
       "</tr>\n",
       "<tr>\n",
       "  <th>Df Model:</th>              <td>     6</td>      <th>                     </th>     <td> </td>    \n",
       "</tr>\n",
       "<tr>\n",
       "  <th>Covariance Type:</th>      <td>nonrobust</td>    <th>                     </th>     <td> </td>    \n",
       "</tr>\n",
       "</table>\n",
       "<table class=\"simpletable\">\n",
       "<tr>\n",
       "            <td></td>              <th>coef</th>     <th>std err</th>      <th>t</th>      <th>P>|t|</th>  <th>[0.025</th>    <th>0.975]</th>  \n",
       "</tr>\n",
       "<tr>\n",
       "  <th>const</th>                <td>    3.9889</td> <td>    0.471</td> <td>    8.467</td> <td> 0.000</td> <td>    3.064</td> <td>    4.913</td>\n",
       "</tr>\n",
       "<tr>\n",
       "  <th>volatile_acidity</th>     <td>   -0.9703</td> <td>    0.119</td> <td>   -8.121</td> <td> 0.000</td> <td>   -1.205</td> <td>   -0.736</td>\n",
       "</tr>\n",
       "<tr>\n",
       "  <th>chlorides</th>            <td>   -2.2669</td> <td>    0.456</td> <td>   -4.975</td> <td> 0.000</td> <td>   -3.161</td> <td>   -1.373</td>\n",
       "</tr>\n",
       "<tr>\n",
       "  <th>total_sulfur_dioxide</th> <td>   -0.0022</td> <td>    0.001</td> <td>   -3.752</td> <td> 0.000</td> <td>   -0.003</td> <td>   -0.001</td>\n",
       "</tr>\n",
       "<tr>\n",
       "  <th>pH</th>                   <td>   -0.3666</td> <td>    0.138</td> <td>   -2.658</td> <td> 0.008</td> <td>   -0.637</td> <td>   -0.096</td>\n",
       "</tr>\n",
       "<tr>\n",
       "  <th>sulphates</th>            <td>    0.9445</td> <td>    0.128</td> <td>    7.369</td> <td> 0.000</td> <td>    0.693</td> <td>    1.196</td>\n",
       "</tr>\n",
       "<tr>\n",
       "  <th>alcohol</th>              <td>    0.2941</td> <td>    0.020</td> <td>   14.702</td> <td> 0.000</td> <td>    0.255</td> <td>    0.333</td>\n",
       "</tr>\n",
       "</table>\n",
       "<table class=\"simpletable\">\n",
       "<tr>\n",
       "  <th>Omnibus:</th>       <td>17.505</td> <th>  Durbin-Watson:     </th> <td>   2.129</td>\n",
       "</tr>\n",
       "<tr>\n",
       "  <th>Prob(Omnibus):</th> <td> 0.000</td> <th>  Jarque-Bera (JB):  </th> <td>  25.497</td>\n",
       "</tr>\n",
       "<tr>\n",
       "  <th>Skew:</th>          <td>-0.150</td> <th>  Prob(JB):          </th> <td>2.91e-06</td>\n",
       "</tr>\n",
       "<tr>\n",
       "  <th>Kurtosis:</th>      <td> 3.676</td> <th>  Cond. No.          </th> <td>1.59e+03</td>\n",
       "</tr>\n",
       "</table><br/><br/>Warnings:<br/>[1] Standard Errors assume that the covariance matrix of the errors is correctly specified.<br/>[2] The condition number is large, 1.59e+03. This might indicate that there are<br/>strong multicollinearity or other numerical problems."
      ],
      "text/plain": [
       "<class 'statsmodels.iolib.summary.Summary'>\n",
       "\"\"\"\n",
       "                            OLS Regression Results                            \n",
       "==============================================================================\n",
       "Dep. Variable:                quality   R-squared:                       0.362\n",
       "Model:                            OLS   Adj. R-squared:                  0.359\n",
       "Method:                 Least Squares   F-statistic:                     105.2\n",
       "Date:                Fri, 26 Feb 2021   Prob (F-statistic):          5.57e-105\n",
       "Time:                        19:35:56   Log-Likelihood:                -1089.8\n",
       "No. Observations:                1119   AIC:                             2194.\n",
       "Df Residuals:                    1112   BIC:                             2229.\n",
       "Df Model:                           6                                         \n",
       "Covariance Type:            nonrobust                                         \n",
       "========================================================================================\n",
       "                           coef    std err          t      P>|t|      [0.025      0.975]\n",
       "----------------------------------------------------------------------------------------\n",
       "const                    3.9889      0.471      8.467      0.000       3.064       4.913\n",
       "volatile_acidity        -0.9703      0.119     -8.121      0.000      -1.205      -0.736\n",
       "chlorides               -2.2669      0.456     -4.975      0.000      -3.161      -1.373\n",
       "total_sulfur_dioxide    -0.0022      0.001     -3.752      0.000      -0.003      -0.001\n",
       "pH                      -0.3666      0.138     -2.658      0.008      -0.637      -0.096\n",
       "sulphates                0.9445      0.128      7.369      0.000       0.693       1.196\n",
       "alcohol                  0.2941      0.020     14.702      0.000       0.255       0.333\n",
       "==============================================================================\n",
       "Omnibus:                       17.505   Durbin-Watson:                   2.129\n",
       "Prob(Omnibus):                  0.000   Jarque-Bera (JB):               25.497\n",
       "Skew:                          -0.150   Prob(JB):                     2.91e-06\n",
       "Kurtosis:                       3.676   Cond. No.                     1.59e+03\n",
       "==============================================================================\n",
       "\n",
       "Warnings:\n",
       "[1] Standard Errors assume that the covariance matrix of the errors is correctly specified.\n",
       "[2] The condition number is large, 1.59e+03. This might indicate that there are\n",
       "strong multicollinearity or other numerical problems.\n",
       "\"\"\""
      ]
     },
     "execution_count": 54,
     "metadata": {
      "tags": []
     },
     "output_type": "execute_result"
    }
   ],
   "source": [
    "multi_linear_model_s.summary()"
   ]
  },
  {
   "cell_type": "code",
   "execution_count": null,
   "metadata": {
    "colab": {
     "base_uri": "https://localhost:8080/"
    },
    "id": "zAnkP-3D8oRB",
    "outputId": "c73a7295-e24b-4c89-803b-ff8366af60df"
   },
   "outputs": [
    {
     "name": "stdout",
     "output_type": "stream",
     "text": [
      "The MSE of this model is 0.4405\n"
     ]
    }
   ],
   "source": [
    "#MSE\n",
    "multi_linear_s_mse = mean_squared_error(y_test_s,predictions_s)\n",
    "print(\"The MSE of this model is {:.4f}\".format(multi_linear_s_mse))"
   ]
  },
  {
   "cell_type": "markdown",
   "metadata": {
    "id": "uJ0b_05soCoS"
   },
   "source": [
    "#Classification models"
   ]
  },
  {
   "cell_type": "code",
   "execution_count": null,
   "metadata": {
    "colab": {
     "base_uri": "https://localhost:8080/"
    },
    "id": "oPP5lRhSoCoT",
    "outputId": "3d0d0327-3f0b-425e-f4d4-ec2ea7609d42"
   },
   "outputs": [
    {
     "data": {
      "text/plain": [
       "array([6, 5, 3, 7, 4, 8])"
      ]
     },
     "execution_count": 56,
     "metadata": {
      "tags": []
     },
     "output_type": "execute_result"
    }
   ],
   "source": [
    "df['quality'].unique()"
   ]
  },
  {
   "cell_type": "code",
   "execution_count": null,
   "metadata": {
    "id": "I60QbtEfoCoT"
   },
   "outputs": [],
   "source": [
    "#Label wine quality below 6 as bad (0) or else good (1)\n",
    "df['quality'] = df['quality'].apply(lambda x: 1 if x > 6.5 else 0)"
   ]
  },
  {
   "cell_type": "code",
   "execution_count": null,
   "metadata": {
    "colab": {
     "base_uri": "https://localhost:8080/"
    },
    "id": "rJaovjrkoCoT",
    "outputId": "33932f3f-1e2d-4b1b-956a-38ad6baca290"
   },
   "outputs": [
    {
     "data": {
      "text/plain": [
       "array([0, 1])"
      ]
     },
     "execution_count": 58,
     "metadata": {
      "tags": []
     },
     "output_type": "execute_result"
    }
   ],
   "source": [
    "df['quality'].unique()"
   ]
  },
  {
   "cell_type": "code",
   "execution_count": null,
   "metadata": {
    "colab": {
     "base_uri": "https://localhost:8080/"
    },
    "id": "yqpqBK5AoCoT",
    "outputId": "bddc4091-ea88-4902-d09a-0d1cb56528bf"
   },
   "outputs": [
    {
     "data": {
      "text/plain": [
       "0    1382\n",
       "1     217\n",
       "Name: quality, dtype: int64"
      ]
     },
     "execution_count": 59,
     "metadata": {
      "tags": []
     },
     "output_type": "execute_result"
    }
   ],
   "source": [
    "df['quality'].value_counts()"
   ]
  },
  {
   "cell_type": "code",
   "execution_count": null,
   "metadata": {
    "colab": {
     "base_uri": "https://localhost:8080/"
    },
    "id": "1X0nXvA3oCoT",
    "outputId": "d479135c-60a0-461f-c15e-3800533e55f5"
   },
   "outputs": [
    {
     "name": "stderr",
     "output_type": "stream",
     "text": [
      "/usr/local/lib/python3.7/dist-packages/seaborn/_decorators.py:43: FutureWarning: Pass the following variable as a keyword arg: x. From version 0.12, the only valid positional argument will be `data`, and passing other arguments without an explicit keyword will result in an error or misinterpretation.\n",
      "  FutureWarning\n"
     ]
    },
    {
     "data": {
      "text/plain": [
       "Text(0.5, 1.0, 'DISTRIBUTION OF WINE QUALITY')"
      ]
     },
     "execution_count": 60,
     "metadata": {
      "tags": []
     },
     "output_type": "execute_result"
    },
    {
     "data": {
      "image/png": "[encoded data removed]",
      "text/plain": [
       "<Figure size 432x288 with 1 Axes>"
      ]
     },
     "metadata": {
      "needs_background": "light",
      "tags": []
     },
     "output_type": "display_data"
    }
   ],
   "source": [
    "sns.countplot(df['quality'])\n",
    "plt.title('DISTRIBUTION OF WINE QUALITY', size=20)"
   ]
  },
  {
   "cell_type": "markdown",
   "metadata": {
    "id": "kUvOVlbRoCoU"
   },
   "source": [
    "##Random Forest"
   ]
  },
  {
   "cell_type": "code",
   "execution_count": null,
   "metadata": {
    "id": "0cFVTOw_oCoU"
   },
   "outputs": [],
   "source": [
    "X = df[df.columns[:-1]]\n",
    "Y = df['quality']\n",
    "sc = StandardScaler()\n",
    "X = sc.fit_transform(X)\n",
    "X_train, X_test, Y_train, Y_test = train_test_split(X,Y,test_size = 0.2,random_state=43,stratify=Y)"
   ]
  },
  {
   "cell_type": "code",
   "execution_count": null,
   "metadata": {
    "id": "FjTMeyJnoCoU"
   },
   "outputs": [],
   "source": [
    "metrics = pd.DataFrame(index=['accuracy','precision','recall'],\n",
    "                       columns =['DecisionTree'])"
   ]
  },
  {
   "cell_type": "code",
   "execution_count": null,
   "metadata": {
    "colab": {
     "base_uri": "https://localhost:8080/"
    },
    "id": "G-G1y6_foCoU",
    "outputId": "6c273a66-48a1-410f-d48a-023fc489eef9"
   },
   "outputs": [
    {
     "name": "stdout",
     "output_type": "stream",
     "text": [
      "Random Forest Accuracy: 0.919\n"
     ]
    }
   ],
   "source": [
    "model = RandomForestClassifier()\n",
    "model.fit(X_train, Y_train)\n",
    "print('Random Forest Accuracy: {:.3f}'.format(accuracy_score(Y_test, model.predict(X_test))))"
   ]
  },
  {
   "cell_type": "code",
   "execution_count": null,
   "metadata": {
    "id": "KonkwfZToCoU"
   },
   "outputs": [],
   "source": [
    "X_train, X_test, Y_train, Y_test = train_test_split(X, Y, test_size = 0.25, random_state = 0)"
   ]
  },
  {
   "cell_type": "code",
   "execution_count": null,
   "metadata": {
    "colab": {
     "base_uri": "https://localhost:8080/"
    },
    "id": "cf7oCYI3oCoU",
    "outputId": "f8bfb089-d7fe-4a5e-bc82-b5ed7c00ebc9"
   },
   "outputs": [
    {
     "data": {
      "text/plain": [
       "RandomForestClassifier(bootstrap=True, ccp_alpha=0.0, class_weight=None,\n",
       "                       criterion='entropy', max_depth=None, max_features='auto',\n",
       "                       max_leaf_nodes=None, max_samples=None,\n",
       "                       min_impurity_decrease=0.0, min_impurity_split=None,\n",
       "                       min_samples_leaf=1, min_samples_split=2,\n",
       "                       min_weight_fraction_leaf=0.0, n_estimators=10,\n",
       "                       n_jobs=None, oob_score=False, random_state=0, verbose=0,\n",
       "                       warm_start=False)"
      ]
     },
     "execution_count": 65,
     "metadata": {
      "tags": []
     },
     "output_type": "execute_result"
    }
   ],
   "source": [
    "forest = RandomForestClassifier(n_estimators = 10, criterion = 'entropy', random_state = 0)\n",
    "forest.fit(X_train, Y_train)"
   ]
  },
  {
   "cell_type": "code",
   "execution_count": null,
   "metadata": {
    "colab": {
     "base_uri": "https://localhost:8080/"
    },
    "id": "9ZxosOudoCoU",
    "outputId": "8951e07a-9375-4cb5-f890-d875929147ea"
   },
   "outputs": [
    {
     "data": {
      "text/plain": [
       "0.994161801501251"
      ]
     },
     "execution_count": 66,
     "metadata": {
      "tags": []
     },
     "output_type": "execute_result"
    }
   ],
   "source": [
    "forest.score(X_train, Y_train)"
   ]
  },
  {
   "cell_type": "code",
   "execution_count": null,
   "metadata": {
    "colab": {
     "base_uri": "https://localhost:8080/"
    },
    "id": "kGwi24I1oCoV",
    "outputId": "9116b84c-2a3a-4071-cb7e-3396b2590abe"
   },
   "outputs": [
    {
     "data": {
      "text/plain": [
       "array([[336,   7],\n",
       "       [ 32,  25]])"
      ]
     },
     "execution_count": 67,
     "metadata": {
      "tags": []
     },
     "output_type": "execute_result"
    }
   ],
   "source": [
    "confusion_matrix(Y_test, forest.predict(X_test))"
   ]
  },
  {
   "cell_type": "markdown",
   "metadata": {
    "id": "_mhp2hB6oCoV"
   },
   "source": [
    "##Decision tree"
   ]
  },
  {
   "cell_type": "code",
   "execution_count": null,
   "metadata": {
    "colab": {
     "base_uri": "https://localhost:8080/"
    },
    "id": "s-QXJnpKoCoV",
    "outputId": "5efc1cff-c07d-4042-c4b9-c020002356ca"
   },
   "outputs": [
    {
     "data": {
      "text/plain": [
       "DecisionTreeClassifier(ccp_alpha=0.0, class_weight=None, criterion='gini',\n",
       "                       max_depth=None, max_features=None, max_leaf_nodes=None,\n",
       "                       min_impurity_decrease=0.0, min_impurity_split=None,\n",
       "                       min_samples_leaf=10, min_samples_split=50,\n",
       "                       min_weight_fraction_leaf=0.0, presort='deprecated',\n",
       "                       random_state=10, splitter='best')"
      ]
     },
     "execution_count": 68,
     "metadata": {
      "tags": []
     },
     "output_type": "execute_result"
    }
   ],
   "source": [
    "dc = DecisionTreeClassifier(min_samples_split=50,min_samples_leaf=10,random_state=10)\n",
    "dc.fit(X_train,Y_train)"
   ]
  },
  {
   "cell_type": "code",
   "execution_count": null,
   "metadata": {
    "colab": {
     "base_uri": "https://localhost:8080/"
    },
    "id": "nHNhUIa0oCoV",
    "outputId": "fe0ae893-fabf-46c3-8e05-1d86ce61e7af"
   },
   "outputs": [
    {
     "name": "stdout",
     "output_type": "stream",
     "text": [
      "The score of decision tree model is 0.8975\n"
     ]
    }
   ],
   "source": [
    "print('The score of decision tree model is {:.4f}'.format(dc.score(X_test,Y_test)))"
   ]
  },
  {
   "cell_type": "code",
   "execution_count": null,
   "metadata": {
    "id": "XxsQMXhHoCoV"
   },
   "outputs": [],
   "source": [
    "pred = dc.predict(X_test)\n",
    "metrics = pd.DataFrame(index=['accuracy','precision','recall'],\n",
    "                       columns =['DecisionTree'])\n",
    "metrics.loc['accuracy','DecisionTree'] = accuracy_score(y_pred= pred, y_true=Y_test)\n",
    "metrics.loc['precision','DecisionTree'] = precision_score(y_pred= pred, y_true=Y_test,average='micro')\n",
    "metrics.loc['recall','DecisionTree'] = recall_score(y_pred= pred, y_true=Y_test,average='micro')"
   ]
  },
  {
   "cell_type": "code",
   "execution_count": null,
   "metadata": {
    "colab": {
     "base_uri": "https://localhost:8080/"
    },
    "id": "obGMuFl5oCoV",
    "outputId": "f78630c1-4fce-4db0-af92-6933c3b77e0c"
   },
   "outputs": [
    {
     "data": {
      "text/plain": [
       "array([[331,  12],\n",
       "       [ 29,  28]])"
      ]
     },
     "execution_count": 71,
     "metadata": {
      "tags": []
     },
     "output_type": "execute_result"
    }
   ],
   "source": [
    "CM = confusion_matrix(y_pred= pred, y_true=Y_test)\n",
    "CM"
   ]
  },
  {
   "cell_type": "code",
   "execution_count": null,
   "metadata": {
    "colab": {
     "base_uri": "https://localhost:8080/"
    },
    "id": "GqU7-7GOoCoW",
    "outputId": "c2979f6f-0693-489d-f7fa-aae0ae572087"
   },
   "outputs": [
    {
     "data": {
      "text/html": [
       "<div>\n",
       "<style scoped>\n",
       "    .dataframe tbody tr th:only-of-type {\n",
       "        vertical-align: middle;\n",
       "    }\n",
       "\n",
       "    .dataframe tbody tr th {\n",
       "        vertical-align: top;\n",
       "    }\n",
       "\n",
       "    .dataframe thead th {\n",
       "        text-align: right;\n",
       "    }\n",
       "</style>\n",
       "<table border=\"1\" class=\"dataframe\">\n",
       "  <thead>\n",
       "    <tr style=\"text-align: right;\">\n",
       "      <th></th>\n",
       "      <th>DecisionTree</th>\n",
       "    </tr>\n",
       "  </thead>\n",
       "  <tbody>\n",
       "    <tr>\n",
       "      <th>accuracy</th>\n",
       "      <td>89.75</td>\n",
       "    </tr>\n",
       "    <tr>\n",
       "      <th>precision</th>\n",
       "      <td>89.75</td>\n",
       "    </tr>\n",
       "    <tr>\n",
       "      <th>recall</th>\n",
       "      <td>89.75</td>\n",
       "    </tr>\n",
       "  </tbody>\n",
       "</table>\n",
       "</div>"
      ],
      "text/plain": [
       "          DecisionTree\n",
       "accuracy         89.75\n",
       "precision        89.75\n",
       "recall           89.75"
      ]
     },
     "execution_count": 72,
     "metadata": {
      "tags": []
     },
     "output_type": "execute_result"
    }
   ],
   "source": [
    "metrics*100"
   ]
  },
  {
   "cell_type": "code",
   "execution_count": null,
   "metadata": {
    "colab": {
     "base_uri": "https://localhost:8080/"
    },
    "id": "3RNfNfR0oCoW",
    "outputId": "e29533a0-55fd-4709-f4f0-635d573fcf2f"
   },
   "outputs": [
    {
     "name": "stdout",
     "output_type": "stream",
     "text": [
      "              precision    recall  f1-score   support\n",
      "\n",
      "           0       0.92      0.97      0.94       343\n",
      "           1       0.70      0.49      0.58        57\n",
      "\n",
      "    accuracy                           0.90       400\n",
      "   macro avg       0.81      0.73      0.76       400\n",
      "weighted avg       0.89      0.90      0.89       400\n",
      "\n"
     ]
    }
   ],
   "source": [
    "print(classification_report(Y_test,pred))"
   ]
  },
  {
   "cell_type": "code",
   "execution_count": null,
   "metadata": {
    "id": "KPek1mTFoCoW"
   },
   "outputs": [],
   "source": [
    "pred_prob = model.predict_proba(X_test)"
   ]
  },
  {
   "cell_type": "code",
   "execution_count": null,
   "metadata": {
    "colab": {
     "base_uri": "https://localhost:8080/"
    },
    "id": "MJamxUpOoCoW",
    "outputId": "2bfb431b-3c21-4362-edf5-3c7e20e5ef88"
   },
   "outputs": [
    {
     "data": {
      "text/html": [
       "<div>\n",
       "<style scoped>\n",
       "    .dataframe tbody tr th:only-of-type {\n",
       "        vertical-align: middle;\n",
       "    }\n",
       "\n",
       "    .dataframe tbody tr th {\n",
       "        vertical-align: top;\n",
       "    }\n",
       "\n",
       "    .dataframe thead th {\n",
       "        text-align: right;\n",
       "    }\n",
       "</style>\n",
       "<table border=\"1\" class=\"dataframe\">\n",
       "  <thead>\n",
       "    <tr style=\"text-align: right;\">\n",
       "      <th></th>\n",
       "      <th>fixed acifity</th>\n",
       "      <th>volatile acidity</th>\n",
       "      <th>citric acid</th>\n",
       "      <th>residual sugar</th>\n",
       "      <th>chlorides</th>\n",
       "      <th>free sulfur dioxide</th>\n",
       "      <th>total sulfur dioxide</th>\n",
       "      <th>density</th>\n",
       "      <th>pH</th>\n",
       "      <th>sulphates</th>\n",
       "      <th>alcohol</th>\n",
       "      <th>Prediction</th>\n",
       "    </tr>\n",
       "  </thead>\n",
       "  <tbody>\n",
       "    <tr>\n",
       "      <th>0</th>\n",
       "      <td>9</td>\n",
       "      <td>0.4</td>\n",
       "      <td>0.5</td>\n",
       "      <td>4.7</td>\n",
       "      <td>0.1</td>\n",
       "      <td>10</td>\n",
       "      <td>30</td>\n",
       "      <td>0.99</td>\n",
       "      <td>3.5</td>\n",
       "      <td>0.6</td>\n",
       "      <td>9</td>\n",
       "      <td>0</td>\n",
       "    </tr>\n",
       "  </tbody>\n",
       "</table>\n",
       "</div>"
      ],
      "text/plain": [
       "   fixed acifity  volatile acidity  citric acid  ...  sulphates  alcohol  Prediction\n",
       "0              9               0.4          0.5  ...        0.6        9           0\n",
       "\n",
       "[1 rows x 12 columns]"
      ]
     },
     "execution_count": 75,
     "metadata": {
      "tags": []
     },
     "output_type": "execute_result"
    }
   ],
   "source": [
    "predicted_values = pd.DataFrame(data = {'fixed acifity' : [9], 'volatile acidity' : [0.4], 'citric acid' : [0.5], 'residual sugar' : [4.7],'chlorides':[0.1],\n",
    "                                        'free sulfur dioxide' : [10],'total sulfur dioxide':[30],'density' :[0.99],'pH' : [3.5],\n",
    "                                        'sulphates' :[0.6],'alcohol': [9]})\n",
    "predicted_values.join(pd.DataFrame(model.predict(predicted_values), columns = {'Prediction'}).set_index([pd.Index(predicted_values.index)]))"
   ]
  },
  {
   "cell_type": "markdown",
   "metadata": {
    "id": "wzncG2Vn_HYq"
   },
   "source": [
    "#Application/Prediction\n",
    "##To find out what features does a high quality wine have\n"
   ]
  },
  {
   "cell_type": "markdown",
   "metadata": {
    "id": "3fNSEj35_069"
   },
   "source": [
    "##Build datasets with all possible feature combinations (Random Forest Feature Selection)\n",
    "###['volatile_acidity', 'total_sulfur_dioxide', 'density', 'sulphates','alcohol']"
   ]
  },
  {
   "cell_type": "code",
   "execution_count": null,
   "metadata": {
    "id": "kKGtqjSwjwD1"
   },
   "outputs": [],
   "source": [
    "data=[];\n",
    "for volatile_acidity in arange(0.12,1.58,0.05):\n",
    "  for total_sulfur_dioxide in arange(6,289,1):\n",
    "    for density in arange(0.99,1.003,0.005):\n",
    "      for sulphates in arange(0.33,2,0.1):\n",
    "        for alcohol in arange(8.4,14.9,0.1):\n",
    "          data.append([volatile_acidity,\n",
    "                    total_sulfur_dioxide,density,\n",
    "                    sulphates,alcohol])"
   ]
  },
  {
   "cell_type": "code",
   "execution_count": null,
   "metadata": {
    "id": "iDa8SlYy7v0H"
   },
   "outputs": [],
   "source": [
    "test_df = pd.DataFrame(data, columns = ['volatile_acidity', 'total_sulfur_dioxide', 'density', 'sulphates',\n",
    "       'alcohol'])"
   ]
  },
  {
   "cell_type": "code",
   "execution_count": null,
   "metadata": {
    "colab": {
     "base_uri": "https://localhost:8080/"
    },
    "id": "fLnPpOE-g7EQ",
    "outputId": "8184ada8-711c-4368-f498-21cac9569ad9"
   },
   "outputs": [
    {
     "data": {
      "text/html": [
       "<div>\n",
       "<style scoped>\n",
       "    .dataframe tbody tr th:only-of-type {\n",
       "        vertical-align: middle;\n",
       "    }\n",
       "\n",
       "    .dataframe tbody tr th {\n",
       "        vertical-align: top;\n",
       "    }\n",
       "\n",
       "    .dataframe thead th {\n",
       "        text-align: right;\n",
       "    }\n",
       "</style>\n",
       "<table border=\"1\" class=\"dataframe\">\n",
       "  <thead>\n",
       "    <tr style=\"text-align: right;\">\n",
       "      <th></th>\n",
       "      <th>volatile_acidity</th>\n",
       "      <th>total_sulfur_dioxide</th>\n",
       "      <th>density</th>\n",
       "      <th>sulphates</th>\n",
       "      <th>alcohol</th>\n",
       "    </tr>\n",
       "  </thead>\n",
       "  <tbody>\n",
       "    <tr>\n",
       "      <th>0</th>\n",
       "      <td>0.12</td>\n",
       "      <td>6</td>\n",
       "      <td>0.99</td>\n",
       "      <td>0.33</td>\n",
       "      <td>8.4</td>\n",
       "    </tr>\n",
       "    <tr>\n",
       "      <th>1</th>\n",
       "      <td>0.12</td>\n",
       "      <td>6</td>\n",
       "      <td>0.99</td>\n",
       "      <td>0.33</td>\n",
       "      <td>8.5</td>\n",
       "    </tr>\n",
       "    <tr>\n",
       "      <th>2</th>\n",
       "      <td>0.12</td>\n",
       "      <td>6</td>\n",
       "      <td>0.99</td>\n",
       "      <td>0.33</td>\n",
       "      <td>8.6</td>\n",
       "    </tr>\n",
       "    <tr>\n",
       "      <th>3</th>\n",
       "      <td>0.12</td>\n",
       "      <td>6</td>\n",
       "      <td>0.99</td>\n",
       "      <td>0.33</td>\n",
       "      <td>8.7</td>\n",
       "    </tr>\n",
       "    <tr>\n",
       "      <th>4</th>\n",
       "      <td>0.12</td>\n",
       "      <td>6</td>\n",
       "      <td>0.99</td>\n",
       "      <td>0.33</td>\n",
       "      <td>8.8</td>\n",
       "    </tr>\n",
       "    <tr>\n",
       "      <th>...</th>\n",
       "      <td>...</td>\n",
       "      <td>...</td>\n",
       "      <td>...</td>\n",
       "      <td>...</td>\n",
       "      <td>...</td>\n",
       "    </tr>\n",
       "    <tr>\n",
       "      <th>28144345</th>\n",
       "      <td>1.57</td>\n",
       "      <td>288</td>\n",
       "      <td>1.00</td>\n",
       "      <td>1.93</td>\n",
       "      <td>14.4</td>\n",
       "    </tr>\n",
       "    <tr>\n",
       "      <th>28144346</th>\n",
       "      <td>1.57</td>\n",
       "      <td>288</td>\n",
       "      <td>1.00</td>\n",
       "      <td>1.93</td>\n",
       "      <td>14.5</td>\n",
       "    </tr>\n",
       "    <tr>\n",
       "      <th>28144347</th>\n",
       "      <td>1.57</td>\n",
       "      <td>288</td>\n",
       "      <td>1.00</td>\n",
       "      <td>1.93</td>\n",
       "      <td>14.6</td>\n",
       "    </tr>\n",
       "    <tr>\n",
       "      <th>28144348</th>\n",
       "      <td>1.57</td>\n",
       "      <td>288</td>\n",
       "      <td>1.00</td>\n",
       "      <td>1.93</td>\n",
       "      <td>14.7</td>\n",
       "    </tr>\n",
       "    <tr>\n",
       "      <th>28144349</th>\n",
       "      <td>1.57</td>\n",
       "      <td>288</td>\n",
       "      <td>1.00</td>\n",
       "      <td>1.93</td>\n",
       "      <td>14.8</td>\n",
       "    </tr>\n",
       "  </tbody>\n",
       "</table>\n",
       "<p>28144350 rows × 5 columns</p>\n",
       "</div>"
      ],
      "text/plain": [
       "          volatile_acidity  total_sulfur_dioxide  density  sulphates  alcohol\n",
       "0                     0.12                     6     0.99       0.33      8.4\n",
       "1                     0.12                     6     0.99       0.33      8.5\n",
       "2                     0.12                     6     0.99       0.33      8.6\n",
       "3                     0.12                     6     0.99       0.33      8.7\n",
       "4                     0.12                     6     0.99       0.33      8.8\n",
       "...                    ...                   ...      ...        ...      ...\n",
       "28144345              1.57                   288     1.00       1.93     14.4\n",
       "28144346              1.57                   288     1.00       1.93     14.5\n",
       "28144347              1.57                   288     1.00       1.93     14.6\n",
       "28144348              1.57                   288     1.00       1.93     14.7\n",
       "28144349              1.57                   288     1.00       1.93     14.8\n",
       "\n",
       "[28144350 rows x 5 columns]"
      ]
     },
     "execution_count": 78,
     "metadata": {
      "tags": []
     },
     "output_type": "execute_result"
    }
   ],
   "source": [
    "test_df"
   ]
  },
  {
   "cell_type": "markdown",
   "metadata": {
    "id": "Ht_gVL56PNSa"
   },
   "source": [
    "###predict wine quality of the test dataset"
   ]
  },
  {
   "cell_type": "code",
   "execution_count": null,
   "metadata": {
    "id": "gkbP96MUQVUt"
   },
   "outputs": [],
   "source": [
    "#Random Forest Regression model \n",
    "test_pred_RFR = RFR_select1.predict(test_df)"
   ]
  },
  {
   "cell_type": "code",
   "execution_count": null,
   "metadata": {
    "id": "qERL6pUyRKic"
   },
   "outputs": [],
   "source": [
    "#multiple linear regression model\n",
    "test_pred_MLR = multi_linear_sel.predict(test_df)"
   ]
  },
  {
   "cell_type": "markdown",
   "metadata": {
    "id": "O0PU8nUSTtZ6"
   },
   "source": [
    "###Results"
   ]
  },
  {
   "cell_type": "code",
   "execution_count": null,
   "metadata": {
    "id": "ljOOpwh9TvD7"
   },
   "outputs": [],
   "source": [
    "#RFR\n",
    "RFR_fin = pd.DataFrame(test_pred_RFR.round(), columns = {'RFR'}).set_index([pd.Index(test_df.index)])\n",
    "#MLR\n",
    "MLR_fin = pd.DataFrame(test_pred_MLR.round(), columns = {'MLR'}).set_index([pd.Index(test_df.index)])"
   ]
  },
  {
   "cell_type": "code",
   "execution_count": null,
   "metadata": {
    "colab": {
     "base_uri": "https://localhost:8080/"
    },
    "id": "JDNKkIuDVO5-",
    "outputId": "35b83038-bd4b-487c-ec34-d949ac3fd432"
   },
   "outputs": [
    {
     "data": {
      "text/html": [
       "<div>\n",
       "<style scoped>\n",
       "    .dataframe tbody tr th:only-of-type {\n",
       "        vertical-align: middle;\n",
       "    }\n",
       "\n",
       "    .dataframe tbody tr th {\n",
       "        vertical-align: top;\n",
       "    }\n",
       "\n",
       "    .dataframe thead th {\n",
       "        text-align: right;\n",
       "    }\n",
       "</style>\n",
       "<table border=\"1\" class=\"dataframe\">\n",
       "  <thead>\n",
       "    <tr style=\"text-align: right;\">\n",
       "      <th></th>\n",
       "      <th>volatile_acidity</th>\n",
       "      <th>total_sulfur_dioxide</th>\n",
       "      <th>density</th>\n",
       "      <th>sulphates</th>\n",
       "      <th>alcohol</th>\n",
       "      <th>RFR</th>\n",
       "      <th>MLR</th>\n",
       "    </tr>\n",
       "  </thead>\n",
       "  <tbody>\n",
       "    <tr>\n",
       "      <th>0</th>\n",
       "      <td>0.12</td>\n",
       "      <td>6</td>\n",
       "      <td>0.99</td>\n",
       "      <td>0.33</td>\n",
       "      <td>8.4</td>\n",
       "      <td>5.0</td>\n",
       "      <td>5.0</td>\n",
       "    </tr>\n",
       "    <tr>\n",
       "      <th>1</th>\n",
       "      <td>0.12</td>\n",
       "      <td>6</td>\n",
       "      <td>0.99</td>\n",
       "      <td>0.33</td>\n",
       "      <td>8.5</td>\n",
       "      <td>5.0</td>\n",
       "      <td>5.0</td>\n",
       "    </tr>\n",
       "    <tr>\n",
       "      <th>2</th>\n",
       "      <td>0.12</td>\n",
       "      <td>6</td>\n",
       "      <td>0.99</td>\n",
       "      <td>0.33</td>\n",
       "      <td>8.6</td>\n",
       "      <td>5.0</td>\n",
       "      <td>5.0</td>\n",
       "    </tr>\n",
       "    <tr>\n",
       "      <th>3</th>\n",
       "      <td>0.12</td>\n",
       "      <td>6</td>\n",
       "      <td>0.99</td>\n",
       "      <td>0.33</td>\n",
       "      <td>8.7</td>\n",
       "      <td>5.0</td>\n",
       "      <td>5.0</td>\n",
       "    </tr>\n",
       "    <tr>\n",
       "      <th>4</th>\n",
       "      <td>0.12</td>\n",
       "      <td>6</td>\n",
       "      <td>0.99</td>\n",
       "      <td>0.33</td>\n",
       "      <td>8.8</td>\n",
       "      <td>5.0</td>\n",
       "      <td>6.0</td>\n",
       "    </tr>\n",
       "    <tr>\n",
       "      <th>...</th>\n",
       "      <td>...</td>\n",
       "      <td>...</td>\n",
       "      <td>...</td>\n",
       "      <td>...</td>\n",
       "      <td>...</td>\n",
       "      <td>...</td>\n",
       "      <td>...</td>\n",
       "    </tr>\n",
       "    <tr>\n",
       "      <th>28144345</th>\n",
       "      <td>1.57</td>\n",
       "      <td>288</td>\n",
       "      <td>1.00</td>\n",
       "      <td>1.93</td>\n",
       "      <td>14.4</td>\n",
       "      <td>6.0</td>\n",
       "      <td>6.0</td>\n",
       "    </tr>\n",
       "    <tr>\n",
       "      <th>28144346</th>\n",
       "      <td>1.57</td>\n",
       "      <td>288</td>\n",
       "      <td>1.00</td>\n",
       "      <td>1.93</td>\n",
       "      <td>14.5</td>\n",
       "      <td>6.0</td>\n",
       "      <td>6.0</td>\n",
       "    </tr>\n",
       "    <tr>\n",
       "      <th>28144347</th>\n",
       "      <td>1.57</td>\n",
       "      <td>288</td>\n",
       "      <td>1.00</td>\n",
       "      <td>1.93</td>\n",
       "      <td>14.6</td>\n",
       "      <td>6.0</td>\n",
       "      <td>6.0</td>\n",
       "    </tr>\n",
       "    <tr>\n",
       "      <th>28144348</th>\n",
       "      <td>1.57</td>\n",
       "      <td>288</td>\n",
       "      <td>1.00</td>\n",
       "      <td>1.93</td>\n",
       "      <td>14.7</td>\n",
       "      <td>6.0</td>\n",
       "      <td>6.0</td>\n",
       "    </tr>\n",
       "    <tr>\n",
       "      <th>28144349</th>\n",
       "      <td>1.57</td>\n",
       "      <td>288</td>\n",
       "      <td>1.00</td>\n",
       "      <td>1.93</td>\n",
       "      <td>14.8</td>\n",
       "      <td>6.0</td>\n",
       "      <td>6.0</td>\n",
       "    </tr>\n",
       "  </tbody>\n",
       "</table>\n",
       "<p>28144350 rows × 7 columns</p>\n",
       "</div>"
      ],
      "text/plain": [
       "          volatile_acidity  total_sulfur_dioxide  density  ...  alcohol  RFR  MLR\n",
       "0                     0.12                     6     0.99  ...      8.4  5.0  5.0\n",
       "1                     0.12                     6     0.99  ...      8.5  5.0  5.0\n",
       "2                     0.12                     6     0.99  ...      8.6  5.0  5.0\n",
       "3                     0.12                     6     0.99  ...      8.7  5.0  5.0\n",
       "4                     0.12                     6     0.99  ...      8.8  5.0  6.0\n",
       "...                    ...                   ...      ...  ...      ...  ...  ...\n",
       "28144345              1.57                   288     1.00  ...     14.4  6.0  6.0\n",
       "28144346              1.57                   288     1.00  ...     14.5  6.0  6.0\n",
       "28144347              1.57                   288     1.00  ...     14.6  6.0  6.0\n",
       "28144348              1.57                   288     1.00  ...     14.7  6.0  6.0\n",
       "28144349              1.57                   288     1.00  ...     14.8  6.0  6.0\n",
       "\n",
       "[28144350 rows x 7 columns]"
      ]
     },
     "execution_count": 82,
     "metadata": {
      "tags": []
     },
     "output_type": "execute_result"
    }
   ],
   "source": [
    "all_together_df1 = test_df.join(RFR_fin).join(MLR_fin)\n",
    "all_together_df1"
   ]
  },
  {
   "cell_type": "code",
   "execution_count": null,
   "metadata": {
    "colab": {
     "base_uri": "https://localhost:8080/"
    },
    "id": "CU4GTo-6NKAr",
    "outputId": "c8bb7afb-affb-41c9-8d1b-42525efd5e09"
   },
   "outputs": [
    {
     "data": {
      "text/plain": [
       "[Text(0.5, 0, 'wine quality')]"
      ]
     },
     "execution_count": 83,
     "metadata": {
      "tags": []
     },
     "output_type": "execute_result"
    },
    {
     "data": {
      "image/png": "[encoded data removed]",
      "text/plain": [
       "<Figure size 720x720 with 1 Axes>"
      ]
     },
     "metadata": {
      "needs_background": "light",
      "tags": []
     },
     "output_type": "display_data"
    }
   ],
   "source": [
    "fig, ax = pyplot.subplots(figsize=(10,10))\n",
    "countplt = sns.countplot(data = all_together_df1,x='RFR')\n",
    "ax.set(xlabel='wine quality')"
   ]
  },
  {
   "cell_type": "code",
   "execution_count": null,
   "metadata": {
    "id": "pTzYCYTXJxG5"
   },
   "outputs": [],
   "source": [
    "quality8 = all_together_df1.loc[all_together_df1['RFR']>=8]"
   ]
  },
  {
   "cell_type": "code",
   "execution_count": null,
   "metadata": {
    "colab": {
     "base_uri": "https://localhost:8080/"
    },
    "id": "3clV9AESLWQN",
    "outputId": "fc782010-8232-44f4-ad88-23496690dc4c"
   },
   "outputs": [
    {
     "data": {
      "text/html": [
       "<div>\n",
       "<style scoped>\n",
       "    .dataframe tbody tr th:only-of-type {\n",
       "        vertical-align: middle;\n",
       "    }\n",
       "\n",
       "    .dataframe tbody tr th {\n",
       "        vertical-align: top;\n",
       "    }\n",
       "\n",
       "    .dataframe thead th {\n",
       "        text-align: right;\n",
       "    }\n",
       "</style>\n",
       "<table border=\"1\" class=\"dataframe\">\n",
       "  <thead>\n",
       "    <tr style=\"text-align: right;\">\n",
       "      <th></th>\n",
       "      <th>volatile_acidity</th>\n",
       "      <th>total_sulfur_dioxide</th>\n",
       "      <th>density</th>\n",
       "      <th>sulphates</th>\n",
       "      <th>alcohol</th>\n",
       "      <th>RFR</th>\n",
       "      <th>MLR</th>\n",
       "    </tr>\n",
       "  </thead>\n",
       "  <tbody>\n",
       "    <tr>\n",
       "      <th>count</th>\n",
       "      <td>160040.000000</td>\n",
       "      <td>160040.000000</td>\n",
       "      <td>1.600400e+05</td>\n",
       "      <td>160040.000000</td>\n",
       "      <td>160040.000000</td>\n",
       "      <td>160040.0</td>\n",
       "      <td>160040.000000</td>\n",
       "    </tr>\n",
       "    <tr>\n",
       "      <th>mean</th>\n",
       "      <td>1.061789</td>\n",
       "      <td>170.914728</td>\n",
       "      <td>9.900000e-01</td>\n",
       "      <td>0.784568</td>\n",
       "      <td>13.582821</td>\n",
       "      <td>8.0</td>\n",
       "      <td>5.848438</td>\n",
       "    </tr>\n",
       "    <tr>\n",
       "      <th>std</th>\n",
       "      <td>0.307589</td>\n",
       "      <td>73.109085</td>\n",
       "      <td>2.826637e-13</td>\n",
       "      <td>0.049791</td>\n",
       "      <td>0.509708</td>\n",
       "      <td>0.0</td>\n",
       "      <td>0.490346</td>\n",
       "    </tr>\n",
       "    <tr>\n",
       "      <th>min</th>\n",
       "      <td>0.520000</td>\n",
       "      <td>6.000000</td>\n",
       "      <td>9.900000e-01</td>\n",
       "      <td>0.730000</td>\n",
       "      <td>12.500000</td>\n",
       "      <td>8.0</td>\n",
       "      <td>5.000000</td>\n",
       "    </tr>\n",
       "    <tr>\n",
       "      <th>25%</th>\n",
       "      <td>0.820000</td>\n",
       "      <td>118.000000</td>\n",
       "      <td>9.900000e-01</td>\n",
       "      <td>0.730000</td>\n",
       "      <td>13.200000</td>\n",
       "      <td>8.0</td>\n",
       "      <td>6.000000</td>\n",
       "    </tr>\n",
       "    <tr>\n",
       "      <th>50%</th>\n",
       "      <td>1.070000</td>\n",
       "      <td>175.000000</td>\n",
       "      <td>9.900000e-01</td>\n",
       "      <td>0.830000</td>\n",
       "      <td>13.600000</td>\n",
       "      <td>8.0</td>\n",
       "      <td>6.000000</td>\n",
       "    </tr>\n",
       "    <tr>\n",
       "      <th>75%</th>\n",
       "      <td>1.320000</td>\n",
       "      <td>232.000000</td>\n",
       "      <td>9.900000e-01</td>\n",
       "      <td>0.830000</td>\n",
       "      <td>14.000000</td>\n",
       "      <td>8.0</td>\n",
       "      <td>6.000000</td>\n",
       "    </tr>\n",
       "    <tr>\n",
       "      <th>max</th>\n",
       "      <td>1.570000</td>\n",
       "      <td>288.000000</td>\n",
       "      <td>9.900000e-01</td>\n",
       "      <td>0.830000</td>\n",
       "      <td>14.400000</td>\n",
       "      <td>8.0</td>\n",
       "      <td>7.000000</td>\n",
       "    </tr>\n",
       "  </tbody>\n",
       "</table>\n",
       "</div>"
      ],
      "text/plain": [
       "       volatile_acidity  total_sulfur_dioxide  ...       RFR            MLR\n",
       "count     160040.000000         160040.000000  ...  160040.0  160040.000000\n",
       "mean           1.061789            170.914728  ...       8.0       5.848438\n",
       "std            0.307589             73.109085  ...       0.0       0.490346\n",
       "min            0.520000              6.000000  ...       8.0       5.000000\n",
       "25%            0.820000            118.000000  ...       8.0       6.000000\n",
       "50%            1.070000            175.000000  ...       8.0       6.000000\n",
       "75%            1.320000            232.000000  ...       8.0       6.000000\n",
       "max            1.570000            288.000000  ...       8.0       7.000000\n",
       "\n",
       "[8 rows x 7 columns]"
      ]
     },
     "execution_count": 85,
     "metadata": {
      "tags": []
     },
     "output_type": "execute_result"
    }
   ],
   "source": [
    "quality8.describe()"
   ]
  },
  {
   "cell_type": "markdown",
   "metadata": {
    "id": "BWOrv9Yd2zCy"
   },
   "source": [
    "##For future reference"
   ]
  },
  {
   "cell_type": "code",
   "execution_count": null,
   "metadata": {
    "colab": {
     "base_uri": "https://localhost:8080/"
    },
    "id": "o7y_Wx6z224h",
    "outputId": "c7f3b44a-5ef9-412c-87c7-5709355a0fef"
   },
   "outputs": [
    {
     "data": {
      "application/vnd.google.colaboratory.intrinsic+json": {
       "type": "string"
      },
      "text/plain": [
       "'\\ndata=[];\\nfor volatile_acidity in arange(0.12,1.58,0.01):\\n  for citric_acid in arange(0,1,0.1):\\n    for total_sulfur_dioxide in arange(6,289,1):\\n      for alcohol in arange(8.4,14.9,0.1):\\n        data.append([volatile_acidity,citric_acid,\\n                    total_sulfur_dioxide,alcohol])\\n'"
      ]
     },
     "execution_count": 86,
     "metadata": {
      "tags": []
     },
     "output_type": "execute_result"
    }
   ],
   "source": [
    "'''\n",
    "data=[];\n",
    "for volatile_acidity in arange(0.12,1.58,0.01):\n",
    "  for citric_acid in arange(0,1,0.1):\n",
    "    for total_sulfur_dioxide in arange(6,289,1):\n",
    "      for alcohol in arange(8.4,14.9,0.1):\n",
    "        data.append([volatile_acidity,citric_acid,\n",
    "                    total_sulfur_dioxide,alcohol])\n",
    "'''"
   ]
  },
  {
   "cell_type": "code",
   "execution_count": null,
   "metadata": {
    "colab": {
     "base_uri": "https://localhost:8080/"
    },
    "id": "I1HM82AX4Svl",
    "outputId": "fb8ee079-fa88-478f-8c80-6abcc1fe4891"
   },
   "outputs": [
    {
     "data": {
      "application/vnd.google.colaboratory.intrinsic+json": {
       "type": "string"
      },
      "text/plain": [
       "\"\\ntest_df2 = pd.DataFrame(data, columns = ['volatile_acidity', 'citric_acid', 'total_sulfur_dioxide',\\n       'alcohol'])\\n\""
      ]
     },
     "execution_count": 87,
     "metadata": {
      "tags": []
     },
     "output_type": "execute_result"
    }
   ],
   "source": [
    "'''\n",
    "test_df2 = pd.DataFrame(data, columns = ['volatile_acidity', 'citric_acid', 'total_sulfur_dioxide',\n",
    "       'alcohol'])\n",
    "'''"
   ]
  },
  {
   "cell_type": "markdown",
   "metadata": {
    "id": "9FHLlNGBiij7"
   },
   "source": [
    "###predict wine quality of the test dataset"
   ]
  },
  {
   "cell_type": "code",
   "execution_count": null,
   "metadata": {
    "id": "SyYJMyBChuWP"
   },
   "outputs": [],
   "source": [
    "#Random Forest Regression model \n",
    "#test2_pred_RFR = RFR_s.predict(test_df2)"
   ]
  },
  {
   "cell_type": "code",
   "execution_count": null,
   "metadata": {
    "id": "P_a-3DYOiRg9"
   },
   "outputs": [],
   "source": [
    "#multiple linear regression model\n",
    "#test2_pred_MLR = multi_linear_s.predict(test_df2)"
   ]
  },
  {
   "cell_type": "markdown",
   "metadata": {
    "id": "UglYeQ_oirJ2"
   },
   "source": [
    "###Results"
   ]
  },
  {
   "cell_type": "code",
   "execution_count": null,
   "metadata": {
    "id": "5wXFcDZeieSL"
   },
   "outputs": [],
   "source": [
    "#RFC(grid search2)\n",
    "#RFR2_fin = pd.DataFrame(test2_pred_RFR.round(), columns = {'RFR2'}).set_index([pd.Index(test_df2.index)])\n",
    "#RFC(grid search1)\n",
    "#MLR2_fin = pd.DataFrame(test2_pred_MLR.round(), columns = {'MLR2'}).set_index([pd.Index(test_df2.index)])"
   ]
  },
  {
   "cell_type": "code",
   "execution_count": null,
   "metadata": {
    "id": "my6iHeNti0JE"
   },
   "outputs": [],
   "source": [
    "#all_together_df2 = test_df2.join(RFR2_fin).join(MLR2_fin)\n",
    "#all_together_df2"
   ]
  },
  {
   "cell_type": "code",
   "execution_count": null,
   "metadata": {
    "id": "bwA3XBDyjIza"
   },
   "outputs": [],
   "source": [
    "#top 5 wine quality and their feature values using RFR\n",
    "#all_together_df1.sort_values(by=['RFR2']).tail(5)"
   ]
  },
  {
   "cell_type": "code",
   "execution_count": null,
   "metadata": {
    "id": "9COGWIu_jkow"
   },
   "outputs": [],
   "source": [
    "#top 5 wine quality and their feature values using MLR\n",
    "#all_together_df1.sort_values(by=['MLR2']).tail(5)"
   ]
  },
  {
   "cell_type": "code",
   "execution_count": null,
   "metadata": {
    "colab": {
     "base_uri": "https://localhost:8080/"
    },
    "id": "llzX7Th3fg69",
    "outputId": "f6e94d62-2255-4bbe-f131-766e6492293b"
   },
   "outputs": [
    {
     "data": {
      "application/vnd.google.colaboratory.intrinsic+json": {
       "type": "string"
      },
      "text/plain": [
       "\"\\ntest_df = pd.DataFrame(data, columns = ['fixed_acidity','volatile_acidity','citric_acid',\\n                                  'residual_sugar','chlorides','free_sulfur_dioxide',\\n                                  'total_sulfur_dioxide','density','pH','sulphates',\\n                                  'alcohol'])\\n\""
      ]
     },
     "execution_count": 94,
     "metadata": {
      "tags": []
     },
     "output_type": "execute_result"
    }
   ],
   "source": [
    "'''\n",
    "test_df = pd.DataFrame(data, columns = ['fixed_acidity','volatile_acidity','citric_acid',\n",
    "                                  'residual_sugar','chlorides','free_sulfur_dioxide',\n",
    "                                  'total_sulfur_dioxide','density','pH','sulphates',\n",
    "                                  'alcohol'])\n",
    "'''"
   ]
  },
  {
   "cell_type": "code",
   "execution_count": null,
   "metadata": {
    "colab": {
     "base_uri": "https://localhost:8080/"
    },
    "id": "aexzrSaAYmk4",
    "outputId": "60e86708-af5d-4e6f-e60b-00552c23bc05"
   },
   "outputs": [
    {
     "data": {
      "application/vnd.google.colaboratory.intrinsic+json": {
       "type": "string"
      },
      "text/plain": [
       "'\\ndata=[];\\nfor fixed_acidity in arange(4.6,15.9,0.1):\\n  for volatile_acidity in arange(0.12,1.58,0.01):\\n    for citric_acid in arange(0,1,0.1):\\n      for residual_suger in arange(0.9,15.5,0.1):\\n        for chlorides in arange(0.012,0.611,0.1):\\n          for free_sulfur_dioxide in arange(1,72,10):\\n            for total_sulfur_dioxide in arange(6,289,10):\\n              for density in arange(0.99,1,0.01):\\n                for pH in arange(2.74,4.01,0.5):\\n                  for sulphates in arange(0.33,2,0.5):\\n                    for alcohol in arange(8.4,14.9,0.5):\\n                      data.append([fixed_acidity,volatile_acidity,citric_acid,\\n                                   residual_suger,chlorides,free_sulfur_dioxide,\\n                                   total_sulfur_dioxide,density,pH,\\n                                   sulphates,alcohol])\\n'"
      ]
     },
     "execution_count": 95,
     "metadata": {
      "tags": []
     },
     "output_type": "execute_result"
    }
   ],
   "source": [
    "'''\n",
    "data=[];\n",
    "for fixed_acidity in arange(4.6,15.9,0.1):\n",
    "  for volatile_acidity in arange(0.12,1.58,0.01):\n",
    "    for citric_acid in arange(0,1,0.1):\n",
    "      for residual_suger in arange(0.9,15.5,0.1):\n",
    "        for chlorides in arange(0.012,0.611,0.1):\n",
    "          for free_sulfur_dioxide in arange(1,72,10):\n",
    "            for total_sulfur_dioxide in arange(6,289,10):\n",
    "              for density in arange(0.99,1,0.01):\n",
    "                for pH in arange(2.74,4.01,0.5):\n",
    "                  for sulphates in arange(0.33,2,0.5):\n",
    "                    for alcohol in arange(8.4,14.9,0.5):\n",
    "                      data.append([fixed_acidity,volatile_acidity,citric_acid,\n",
    "                                   residual_suger,chlorides,free_sulfur_dioxide,\n",
    "                                   total_sulfur_dioxide,density,pH,\n",
    "                                   sulphates,alcohol])\n",
    "'''"
   ]
  }
 ],
 "metadata": {
  "colab": {
   "collapsed_sections": [
    "MqO1KezokB8o",
    "eYXYM7ZBAfEJ",
    "w0PAn4BXPdwJ",
    "rFxK8sC528JH",
    "l7oKVPP58oQ3",
    "uJ0b_05soCoS",
    "BWOrv9Yd2zCy"
   ],
   "machine_shape": "hm",
   "name": "ALY6015_FinalProject_team5_revised.ipynb",
   "provenance": []
  },
  "kernelspec": {
   "display_name": "Python 3",
   "language": "python",
   "name": "python3"
  },
  "language_info": {
   "codemirror_mode": {
    "name": "ipython",
    "version": 3
   },
   "file_extension": ".py",
   "mimetype": "text/x-python",
   "name": "python",
   "nbconvert_exporter": "python",
   "pygments_lexer": "ipython3",
   "version": "3.7.4"
  }
 },
 "nbformat": 4,
 "nbformat_minor": 1
}
